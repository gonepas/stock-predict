{
 "cells": [
  {
   "cell_type": "markdown",
   "metadata": {
    "colab_type": "text",
    "id": "view-in-github"
   },
   "source": [
    "<a href=\"https://colab.research.google.com/github/amanjain252002/Stock-Price-Prediction/blob/main/ARIMA_Model.ipynb\" target=\"_parent\"><img src=\"https://colab.research.google.com/assets/colab-badge.svg\" alt=\"Open In Colab\"/></a>"
   ]
  },
  {
   "cell_type": "code",
   "execution_count": 1,
   "metadata": {
    "id": "_-qNpaWK9cI2"
   },
   "outputs": [
    {
     "name": "stdout",
     "output_type": "stream",
     "text": [
      "Requirement already satisfied: pmdarima in /Users/mac2020/opt/anaconda3/lib/python3.8/site-packages (1.8.2)\n",
      "Requirement already satisfied: Cython!=0.29.18,>=0.29 in /Users/mac2020/opt/anaconda3/lib/python3.8/site-packages (from pmdarima) (0.29.23)\n",
      "Requirement already satisfied: statsmodels!=0.12.0,>=0.11 in /Users/mac2020/opt/anaconda3/lib/python3.8/site-packages (from pmdarima) (0.12.2)\n",
      "Requirement already satisfied: setuptools!=50.0.0,>=38.6.0 in /Users/mac2020/opt/anaconda3/lib/python3.8/site-packages (from pmdarima) (52.0.0.post20210125)\n",
      "Requirement already satisfied: joblib>=0.11 in /Users/mac2020/opt/anaconda3/lib/python3.8/site-packages (from pmdarima) (1.0.1)\n",
      "Requirement already satisfied: numpy~=1.19.0 in /Users/mac2020/opt/anaconda3/lib/python3.8/site-packages (from pmdarima) (1.19.5)\n",
      "Requirement already satisfied: scipy>=1.3.2 in /Users/mac2020/opt/anaconda3/lib/python3.8/site-packages (from pmdarima) (1.6.2)\n",
      "Requirement already satisfied: urllib3 in /Users/mac2020/opt/anaconda3/lib/python3.8/site-packages (from pmdarima) (1.26.4)\n",
      "Requirement already satisfied: scikit-learn>=0.22 in /Users/mac2020/opt/anaconda3/lib/python3.8/site-packages (from pmdarima) (0.24.1)\n",
      "Requirement already satisfied: pandas>=0.19 in /Users/mac2020/opt/anaconda3/lib/python3.8/site-packages (from pmdarima) (1.2.4)\n",
      "Requirement already satisfied: python-dateutil>=2.7.3 in /Users/mac2020/opt/anaconda3/lib/python3.8/site-packages (from pandas>=0.19->pmdarima) (2.8.1)\n",
      "Requirement already satisfied: pytz>=2017.3 in /Users/mac2020/opt/anaconda3/lib/python3.8/site-packages (from pandas>=0.19->pmdarima) (2021.1)\n",
      "Requirement already satisfied: six>=1.5 in /Users/mac2020/opt/anaconda3/lib/python3.8/site-packages (from python-dateutil>=2.7.3->pandas>=0.19->pmdarima) (1.15.0)\n",
      "Requirement already satisfied: threadpoolctl>=2.0.0 in /Users/mac2020/opt/anaconda3/lib/python3.8/site-packages (from scikit-learn>=0.22->pmdarima) (2.1.0)\n",
      "Requirement already satisfied: patsy>=0.5 in /Users/mac2020/opt/anaconda3/lib/python3.8/site-packages (from statsmodels!=0.12.0,>=0.11->pmdarima) (0.5.1)\n"
     ]
    }
   ],
   "source": [
    "!pip install pmdarima"
   ]
  },
  {
   "cell_type": "code",
   "execution_count": 2,
   "metadata": {
    "id": "Rhpi0R3g7GdO"
   },
   "outputs": [
    {
     "ename": "ModuleNotFoundError",
     "evalue": "No module named 'numpy'",
     "output_type": "error",
     "traceback": [
      "\u001b[0;31m---------------------------------------------------------------------------\u001b[0m",
      "\u001b[0;31mModuleNotFoundError\u001b[0m                       Traceback (most recent call last)",
      "\u001b[0;32m/var/folders/h9/k4b3wb6x1ks3yr21r665v0840000gn/T/ipykernel_92852/2229695043.py\u001b[0m in \u001b[0;36m<module>\u001b[0;34m\u001b[0m\n\u001b[1;32m      1\u001b[0m \u001b[0;32mimport\u001b[0m \u001b[0mmath\u001b[0m\u001b[0;34m\u001b[0m\u001b[0;34m\u001b[0m\u001b[0m\n\u001b[0;32m----> 2\u001b[0;31m \u001b[0;32mimport\u001b[0m \u001b[0mnumpy\u001b[0m \u001b[0;32mas\u001b[0m \u001b[0mnp\u001b[0m\u001b[0;34m\u001b[0m\u001b[0;34m\u001b[0m\u001b[0m\n\u001b[0m\u001b[1;32m      3\u001b[0m \u001b[0;32mimport\u001b[0m \u001b[0mpandas\u001b[0m \u001b[0;32mas\u001b[0m \u001b[0mpd\u001b[0m\u001b[0;34m\u001b[0m\u001b[0;34m\u001b[0m\u001b[0m\n\u001b[1;32m      4\u001b[0m \u001b[0;32mimport\u001b[0m \u001b[0mmatplotlib\u001b[0m\u001b[0;34m.\u001b[0m\u001b[0mpyplot\u001b[0m \u001b[0;32mas\u001b[0m \u001b[0mplt\u001b[0m\u001b[0;34m\u001b[0m\u001b[0;34m\u001b[0m\u001b[0m\n\u001b[1;32m      5\u001b[0m \u001b[0;34m\u001b[0m\u001b[0m\n",
      "\u001b[0;31mModuleNotFoundError\u001b[0m: No module named 'numpy'"
     ]
    }
   ],
   "source": [
    "import math\n",
    "import numpy as np\n",
    "import pandas as pd\n",
    "import matplotlib.pyplot as plt\n",
    "\n",
    "from statsmodels.tsa.stattools import adfuller\n",
    "from statsmodels.tsa.arima_model import ARIMA\n",
    "\n",
    "from pmdarima.arima import auto_arima\n",
    "from sklearn.metrics import mean_squared_error, mean_absolute_error\n",
    "\n",
    "import warnings\n",
    "warnings.filterwarnings('ignore')"
   ]
  },
  {
   "cell_type": "code",
   "execution_count": null,
   "metadata": {
    "id": "dkISue9H9LUn"
   },
   "outputs": [],
   "source": [
    "AAPL = pd.read_csv(\"/content/drive/MyDrive/Database/Pre_Processed_AAPL.csv\")\n",
    "TSLA = pd.read_csv(\"/content/drive/MyDrive/Database/Pre_Processed_TSLA.csv\")\n",
    "GOOG = pd.read_csv(\"/content/drive/MyDrive/Database/Pre_Processed_GOOG.csv\")\n",
    "MSFT = pd.read_csv(\"/content/drive/MyDrive/Database/Pre_Processed_MSFT.csv\")\n",
    "AMZN = pd.read_csv(\"/content/drive/MyDrive/Database/Pre_Processed_AMZN.csv\")"
   ]
  },
  {
   "cell_type": "markdown",
   "metadata": {
    "id": "M9SHWv1OGe6T"
   },
   "source": [
    "The Dickey-Fuller test is one of the most popular statistical tests. It can be used to determine the presence of unit root in the series and help us understand if the series is stationary.\n",
    "\n",
    "**Null Hypothesis**: The series has a unit root\n",
    "\n",
    "**Alternate Hypothesis**: The series has no unit root.\n",
    "\n",
    "If we fail to reject the Null Hypothesis, then the series is non-stationary."
   ]
  },
  {
   "cell_type": "code",
   "execution_count": null,
   "metadata": {
    "id": "JVVghS_J-alF"
   },
   "outputs": [],
   "source": [
    "def Test_Stationarity(timeseries):\n",
    "  result = adfuller(timeseries['Adj. Close'], autolag = 'AIC')\n",
    "  print(\"Results of Dickey Fuller Test\")\n",
    "  print(f'Test Statistics: {result[0]}')\n",
    "  print(f'p-value: {result[1]}')\n",
    "  print(f'Number of lags used: {result[2]}')\n",
    "  print(f'Number of observations used: {result[3]}')\n",
    "  for key, value in result[4].items():\n",
    "    print(f'critical value ({key}): {value}')"
   ]
  },
  {
   "cell_type": "markdown",
   "metadata": {
    "id": "4qeGKFCsyrfX"
   },
   "source": [
    "#Apple"
   ]
  },
  {
   "cell_type": "code",
   "execution_count": null,
   "metadata": {
    "colab": {
     "base_uri": "https://localhost:8080/",
     "height": 195
    },
    "id": "VVTvtUnT-MVb",
    "outputId": "ecf79b8c-553e-4c19-9d1d-8d9bffc55205"
   },
   "outputs": [],
   "source": [
    "AAPL.head()"
   ]
  },
  {
   "cell_type": "code",
   "execution_count": null,
   "metadata": {
    "colab": {
     "base_uri": "https://localhost:8080/"
    },
    "id": "wuisU-jvHlV_",
    "outputId": "d5349759-1718-4703-8355-7d9f83bde793"
   },
   "outputs": [],
   "source": [
    "AAPL.info()"
   ]
  },
  {
   "cell_type": "code",
   "execution_count": null,
   "metadata": {
    "id": "cMpcNnJH-H7f"
   },
   "outputs": [],
   "source": [
    "# Change Dtype of Date column\n",
    "AAPL[\"Date\"] = pd.to_datetime(AAPL[\"Date\"])"
   ]
  },
  {
   "cell_type": "code",
   "execution_count": null,
   "metadata": {
    "colab": {
     "base_uri": "https://localhost:8080/"
    },
    "id": "kH2oGK37-S7Y",
    "outputId": "5ed5c966-879b-496a-c3fe-3e1c53e569b6"
   },
   "outputs": [],
   "source": [
    "Test_Stationarity(AAPL)"
   ]
  },
  {
   "cell_type": "markdown",
   "metadata": {
    "id": "XA4ZLgJtIiKK"
   },
   "source": [
    "The p-value > 0.05, so we cannot reject the Null hypothesis. Hence, we would need to use the “Integrated (I)” concept, denoted by value ‘d’ in time series, to make the data stationary while building the Auto ARIMA model."
   ]
  },
  {
   "cell_type": "markdown",
   "metadata": {
    "id": "ef-Xz6gHLiKA"
   },
   "source": [
    "Now let's take log of the 'Adj. Close' column to reduce the magnitude of the values and reduce the series rising trend."
   ]
  },
  {
   "cell_type": "code",
   "execution_count": null,
   "metadata": {
    "colab": {
     "base_uri": "https://localhost:8080/",
     "height": 367
    },
    "id": "r1NMAJkTiC9s",
    "outputId": "79d665bc-d372-4cc9-a01c-9b6c86e58023"
   },
   "outputs": [],
   "source": [
    "AAPL['log Adj. Close'] = np.log(AAPL['Adj. Close'])\n",
    "AAPL_log_moving_avg = AAPL['log Adj. Close'].rolling(12).mean()\n",
    "AAPL_log_std = AAPL['log Adj. Close'].rolling(12).std()\n",
    "\n",
    "plt.figure(figsize = (10, 5))\n",
    "plt.plot(AAPL['Date'], AAPL_log_moving_avg, label = \"Rolling Mean\")\n",
    "plt.plot(AAPL['Date'], AAPL_log_std, label = \"Rolling Std\")\n",
    "plt.xlabel('Time')\n",
    "plt.ylabel('log Adj. Close')\n",
    "plt.legend(loc = 'best')\n",
    "plt.title(\"Rolling Mean and Standard Deviation\")"
   ]
  },
  {
   "cell_type": "markdown",
   "metadata": {
    "id": "AG_0TS7PL34W"
   },
   "source": [
    "###Split the data into training and test set\n",
    "\n",
    "    Training Period: 2015-01-02 - 2020-09-30\n",
    "\n",
    "    Testing Period:  2020-10-01 - 2021-02-26\n",
    "\n",
    "\n",
    "\n",
    "\n",
    "\n"
   ]
  },
  {
   "cell_type": "code",
   "execution_count": null,
   "metadata": {
    "colab": {
     "base_uri": "https://localhost:8080/",
     "height": 351
    },
    "id": "5-gIeq0bDrFz",
    "outputId": "157d09b0-9337-435b-b689-713b0361397a"
   },
   "outputs": [],
   "source": [
    "AAPL_Train_Data = AAPL[AAPL['Date'] < '2020-10-01']\n",
    "AAPL_Test_Data = AAPL[AAPL['Date'] >= '2020-10-01'].reset_index(drop = True)\n",
    "\n",
    "plt.figure(figsize = (10, 5))\n",
    "plt.plot(AAPL_Train_Data['Date'], AAPL_Train_Data['log Adj. Close'], label = 'Train Data')\n",
    "plt.plot(AAPL_Test_Data['Date'], AAPL_Test_Data['log Adj. Close'], label = 'Test Data')\n",
    "plt.xlabel('Time')\n",
    "plt.ylabel('log Adj. Close')\n",
    "plt.legend(loc = 'best')"
   ]
  },
  {
   "cell_type": "markdown",
   "metadata": {
    "id": "AfBHrHl4RSD1"
   },
   "source": [
    "###Modeling"
   ]
  },
  {
   "cell_type": "code",
   "execution_count": null,
   "metadata": {
    "colab": {
     "base_uri": "https://localhost:8080/"
    },
    "id": "eimPhA-fIKrz",
    "outputId": "b9b22fc8-5d26-47d4-b9ac-399538152df7"
   },
   "outputs": [],
   "source": [
    "AAPL_Auto_ARIMA_Model = auto_arima(AAPL_Train_Data['log Adj. Close'], seasonal = False,\n",
    "                                   error_action = 'ignore', suppress_warnings = True)\n",
    "print(AAPL_Auto_ARIMA_Model.summary())"
   ]
  },
  {
   "cell_type": "code",
   "execution_count": null,
   "metadata": {
    "colab": {
     "base_uri": "https://localhost:8080/"
    },
    "id": "eh1Pc10YKQ5h",
    "outputId": "db094e9b-495c-44e0-a929-77983802e5c3"
   },
   "outputs": [],
   "source": [
    "AAPL_ARIMA_Model = ARIMA(AAPL_Train_Data['log Adj. Close'], order = (1, 1, 0))\n",
    "AAPL_ARIMA_Model_Fit = AAPL_ARIMA_Model.fit()\n",
    "print(AAPL_ARIMA_Model_Fit.summary())"
   ]
  },
  {
   "cell_type": "markdown",
   "metadata": {
    "id": "RlxQTJS1MxLU"
   },
   "source": [
    "###Predicting the closing stock price of Apple"
   ]
  },
  {
   "cell_type": "code",
   "execution_count": null,
   "metadata": {
    "colab": {
     "base_uri": "https://localhost:8080/",
     "height": 351
    },
    "id": "iAPswyN9LSX3",
    "outputId": "e10c2ac1-954b-4b42-92c2-56cfc3683c2f"
   },
   "outputs": [],
   "source": [
    "AAPL_output = AAPL_ARIMA_Model_Fit.forecast(102, alpha=0.05)\n",
    "AAPL_predictions = np.exp(AAPL_output[0])\n",
    "plt.figure(figsize=(10, 5))\n",
    "plt.plot(AAPL_Train_Data['Date'], AAPL_Train_Data['Adj. Close'], label = 'Training')\n",
    "plt.plot(AAPL_Test_Data['Date'], AAPL_Test_Data['Adj. Close'], label = 'Testing')\n",
    "plt.plot(AAPL_Test_Data['Date'], AAPL_predictions, label = 'Predictions')\n",
    "plt.xlabel('Time')\n",
    "plt.ylabel('Closing Price')\n",
    "plt.legend()"
   ]
  },
  {
   "cell_type": "code",
   "execution_count": null,
   "metadata": {
    "colab": {
     "base_uri": "https://localhost:8080/"
    },
    "id": "IcMJb9URK0dj",
    "outputId": "00a60235-8142-4a44-e7c7-27ead9558900"
   },
   "outputs": [],
   "source": [
    "rmse = math.sqrt(mean_squared_error(AAPL_Test_Data['Adj. Close'], AAPL_predictions))\n",
    "mape = np.mean(np.abs(AAPL_predictions - AAPL_Test_Data['Adj. Close'])/np.abs(AAPL_Test_Data['Adj. Close']))\n",
    "\n",
    "print(f'RMSE: {rmse}')\n",
    "print(f'MAPE: {mape}')"
   ]
  },
  {
   "cell_type": "markdown",
   "metadata": {
    "id": "f1W_Gggpy0kg"
   },
   "source": [
    "#Tesla"
   ]
  },
  {
   "cell_type": "code",
   "execution_count": null,
   "metadata": {
    "colab": {
     "base_uri": "https://localhost:8080/",
     "height": 195
    },
    "id": "pJWCwitvoSas",
    "outputId": "b955a26f-3b2f-4957-fa78-31a5dbb3a5ec"
   },
   "outputs": [],
   "source": [
    "TSLA.head()"
   ]
  },
  {
   "cell_type": "code",
   "execution_count": null,
   "metadata": {
    "colab": {
     "base_uri": "https://localhost:8080/"
    },
    "id": "xdjJ0wBzoWnN",
    "outputId": "0d5cefce-0574-463f-fb00-7e2c9e0bf8be"
   },
   "outputs": [],
   "source": [
    "TSLA.info()"
   ]
  },
  {
   "cell_type": "code",
   "execution_count": null,
   "metadata": {
    "id": "-CsNqpeBoX4q"
   },
   "outputs": [],
   "source": [
    "# Change Dtype of Date column\n",
    "TSLA[\"Date\"] = pd.to_datetime(TSLA[\"Date\"])"
   ]
  },
  {
   "cell_type": "code",
   "execution_count": null,
   "metadata": {
    "colab": {
     "base_uri": "https://localhost:8080/"
    },
    "id": "5JXe11gDogs1",
    "outputId": "dd1555b4-fd23-452c-ebd9-359ec70373c4"
   },
   "outputs": [],
   "source": [
    "Test_Stationarity(TSLA)"
   ]
  },
  {
   "cell_type": "markdown",
   "metadata": {
    "id": "aM_Ue90lKXtA"
   },
   "source": [
    "The p-value > 0.05, so we cannot reject the Null hypothesis. Hence, we would need to use the “Integrated (I)” concept, denoted by value ‘d’ in time series, to make the data stationary while building the Auto ARIMA model."
   ]
  },
  {
   "cell_type": "markdown",
   "metadata": {
    "id": "JllEmx6eLnK5"
   },
   "source": [
    "Now let's take log of the 'Adj. Close' column to reduce the magnitude of the values and reduce the series rising trend."
   ]
  },
  {
   "cell_type": "code",
   "execution_count": null,
   "metadata": {
    "colab": {
     "base_uri": "https://localhost:8080/",
     "height": 367
    },
    "id": "EqQxW1vlLYLW",
    "outputId": "93969dd6-57b2-451e-a282-887ac23cad95"
   },
   "outputs": [],
   "source": [
    "TSLA['log Adj. Close'] = np.log(TSLA['Adj. Close'])\n",
    "TSLA_log_moving_avg = TSLA['log Adj. Close'].rolling(12).mean()\n",
    "TSLA_log_std = TSLA['log Adj. Close'].rolling(12).std()\n",
    "\n",
    "plt.figure(figsize = (10, 5))\n",
    "plt.plot(TSLA['Date'], TSLA_log_moving_avg, label = \"Rolling Mean\")\n",
    "plt.plot(TSLA['Date'], TSLA_log_std, label = \"Rolling Std\")\n",
    "plt.xlabel('Time')\n",
    "plt.ylabel('log Adj. Close')\n",
    "plt.legend(loc = 'best')\n",
    "plt.title(\"Rolling Mean and Standard Deviation\")"
   ]
  },
  {
   "cell_type": "markdown",
   "metadata": {
    "id": "-a_pxvtxMPpd"
   },
   "source": [
    "###Split the data into training and test set\n",
    "    Training Period: 2015-01-02 - 2020-09-30\n",
    "\n",
    "    Testing Period:  2020-10-01 - 2021-02-26"
   ]
  },
  {
   "cell_type": "code",
   "execution_count": null,
   "metadata": {
    "colab": {
     "base_uri": "https://localhost:8080/",
     "height": 351
    },
    "id": "wR4ZkaR_olHJ",
    "outputId": "dceddd14-f6a3-4c69-83ec-8cf1593fce22"
   },
   "outputs": [],
   "source": [
    "TSLA_Train_Data = TSLA[TSLA['Date'] < '2020-10-01']\n",
    "TSLA_Test_Data = TSLA[TSLA['Date'] >= '2020-10-01'].reset_index(drop = True)\n",
    "\n",
    "plt.figure(figsize = (10, 5))\n",
    "plt.plot(TSLA_Train_Data['Date'], TSLA_Train_Data['log Adj. Close'], label = 'Train Data')\n",
    "plt.plot(TSLA_Test_Data['Date'], TSLA_Test_Data['log Adj. Close'], label = 'Test Data')\n",
    "plt.xlabel('Time')\n",
    "plt.ylabel('log Adj. Close')\n",
    "plt.legend(loc = 'best')"
   ]
  },
  {
   "cell_type": "markdown",
   "metadata": {
    "id": "wChwSDH-ReXi"
   },
   "source": [
    "###Modeling"
   ]
  },
  {
   "cell_type": "code",
   "execution_count": null,
   "metadata": {
    "colab": {
     "base_uri": "https://localhost:8080/"
    },
    "id": "1RapLyyepXKT",
    "outputId": "7771746f-23b7-47ac-8428-73efc48f7a19"
   },
   "outputs": [],
   "source": [
    "TSLA_Auto_ARIMA_Model = auto_arima(TSLA_Train_Data['log Adj. Close'], seasonal = False,\n",
    "                                   error_action = 'ignore', suppress_warnings = True)\n",
    "print(TSLA_Auto_ARIMA_Model.summary())"
   ]
  },
  {
   "cell_type": "code",
   "execution_count": null,
   "metadata": {
    "colab": {
     "base_uri": "https://localhost:8080/"
    },
    "id": "qfLnB9BCp3qc",
    "outputId": "2a872cba-4a77-4656-b270-b3f020167d1f"
   },
   "outputs": [],
   "source": [
    "TSLA_ARIMA_Model = ARIMA(TSLA_Train_Data['log Adj. Close'], order = (5, 2, 2))\n",
    "TSLA_ARIMA_Model_Fit = TSLA_ARIMA_Model.fit()\n",
    "print(TSLA_ARIMA_Model_Fit.summary())"
   ]
  },
  {
   "cell_type": "markdown",
   "metadata": {
    "id": "YVsGGJkeM-A9"
   },
   "source": [
    "###Predicting the closing stock price of Tesla"
   ]
  },
  {
   "cell_type": "code",
   "execution_count": null,
   "metadata": {
    "colab": {
     "base_uri": "https://localhost:8080/",
     "height": 351
    },
    "id": "DFySYonSrhQb",
    "outputId": "70ea4a63-2581-46de-c6e7-3d458b67cd65"
   },
   "outputs": [],
   "source": [
    "TSLA_output = TSLA_ARIMA_Model_Fit.forecast(102, alpha=0.05)\n",
    "TSLA_predictions = np.exp(TSLA_output[0])\n",
    "plt.figure(figsize=(10, 5))\n",
    "plt.plot(TSLA_Train_Data['Date'], TSLA_Train_Data['Adj. Close'], label = 'Training')\n",
    "plt.plot(TSLA_Test_Data['Date'], TSLA_Test_Data['Adj. Close'], label = 'Testing')\n",
    "plt.plot(TSLA_Test_Data['Date'], TSLA_predictions, label = 'Predictions')\n",
    "plt.xlabel('Time')\n",
    "plt.ylabel('Closing Price')\n",
    "plt.legend()"
   ]
  },
  {
   "cell_type": "code",
   "execution_count": null,
   "metadata": {
    "colab": {
     "base_uri": "https://localhost:8080/"
    },
    "id": "SX7T-8JPr1vd",
    "outputId": "5119376d-f898-44e9-9633-96a0e7709fe9"
   },
   "outputs": [],
   "source": [
    "rmse = math.sqrt(mean_squared_error(TSLA_Test_Data['Adj. Close'], TSLA_predictions))\n",
    "mape = np.mean(np.abs(TSLA_predictions - TSLA_Test_Data['Adj. Close'])/np.abs(TSLA_Test_Data['Adj. Close']))\n",
    "\n",
    "print(f'RMSE: {rmse}')\n",
    "print(f'MAPE: {mape}')"
   ]
  },
  {
   "cell_type": "markdown",
   "metadata": {
    "id": "FvUKldXqy82G"
   },
   "source": [
    "#Google"
   ]
  },
  {
   "cell_type": "code",
   "execution_count": null,
   "metadata": {
    "colab": {
     "base_uri": "https://localhost:8080/",
     "height": 195
    },
    "id": "xErJ0CQ3so4e",
    "outputId": "4513260e-e4cd-410f-dd58-ae5c6fc421a0"
   },
   "outputs": [],
   "source": [
    "GOOG.head()"
   ]
  },
  {
   "cell_type": "code",
   "execution_count": null,
   "metadata": {
    "colab": {
     "base_uri": "https://localhost:8080/"
    },
    "id": "iVZhlkydsqJb",
    "outputId": "22823c90-c486-46c7-f01f-2ff7c63fec1a"
   },
   "outputs": [],
   "source": [
    "GOOG.info()"
   ]
  },
  {
   "cell_type": "code",
   "execution_count": null,
   "metadata": {
    "id": "8yikWnnrsr9f"
   },
   "outputs": [],
   "source": [
    "# Change Dtype of Date column\n",
    "GOOG[\"Date\"] = pd.to_datetime(GOOG[\"Date\"])"
   ]
  },
  {
   "cell_type": "code",
   "execution_count": null,
   "metadata": {
    "colab": {
     "base_uri": "https://localhost:8080/"
    },
    "id": "HRMrtOvKsy42",
    "outputId": "fbfdb87d-a038-405b-9442-63024171d208"
   },
   "outputs": [],
   "source": [
    "Test_Stationarity(GOOG)"
   ]
  },
  {
   "cell_type": "markdown",
   "metadata": {
    "id": "HpYy3ZVxKdBH"
   },
   "source": [
    "The p-value > 0.05, so we cannot reject the Null hypothesis. Hence, we would need to use the “Integrated (I)” concept, denoted by value ‘d’ in time series, to make the data stationary while building the Auto ARIMA model."
   ]
  },
  {
   "cell_type": "markdown",
   "metadata": {
    "id": "eviopHmALqz8"
   },
   "source": [
    "Now let's take log of the 'Adj. Close' column to reduce the magnitude of the values and reduce the series rising trend."
   ]
  },
  {
   "cell_type": "code",
   "execution_count": null,
   "metadata": {
    "colab": {
     "base_uri": "https://localhost:8080/",
     "height": 367
    },
    "id": "RuVhHWR7s33g",
    "outputId": "ed290807-dcd9-40a1-f040-b2b79d31e5fd"
   },
   "outputs": [],
   "source": [
    "GOOG['log Adj. Close'] = np.log(GOOG['Adj. Close'])\n",
    "GOOG_log_moving_avg = GOOG['log Adj. Close'].rolling(12).mean()\n",
    "GOOG_log_std = GOOG['log Adj. Close'].rolling(12).std()\n",
    "\n",
    "plt.figure(figsize = (10, 5))\n",
    "plt.plot(GOOG['Date'], GOOG_log_moving_avg, label = \"Rolling Mean\")\n",
    "plt.plot(GOOG['Date'], GOOG_log_std, label = \"Rolling Std\")\n",
    "plt.xlabel('Time')\n",
    "plt.ylabel('log Adj. Close')\n",
    "plt.legend(loc = 'best')\n",
    "plt.title(\"Rolling Mean and Standard Deviation\")"
   ]
  },
  {
   "cell_type": "markdown",
   "metadata": {
    "id": "E8NdBiBIMU40"
   },
   "source": [
    "###Split the data into training and test set\n",
    "    Training Period: 2015-01-02 - 2020-10-30\n",
    "\n",
    "    Testing Period:  2020-11-02 - 2021-02-26"
   ]
  },
  {
   "cell_type": "code",
   "execution_count": null,
   "metadata": {
    "colab": {
     "base_uri": "https://localhost:8080/",
     "height": 351
    },
    "id": "PILs-RoCtMwh",
    "outputId": "d5237ddb-46a3-47db-ccef-2f90e387e394"
   },
   "outputs": [],
   "source": [
    "GOOG_Train_Data = GOOG[GOOG['Date'] < '2020-11-01']\n",
    "GOOG_Test_Data = GOOG[GOOG['Date'] >= '2020-11-01'].reset_index(drop = True)\n",
    "\n",
    "plt.figure(figsize = (10, 5))\n",
    "plt.plot(GOOG_Train_Data['Date'], GOOG_Train_Data['log Adj. Close'], label = 'Train Data')\n",
    "plt.plot(GOOG_Test_Data['Date'], GOOG_Test_Data['log Adj. Close'], label = 'Test Data')\n",
    "plt.xlabel('Time')\n",
    "plt.ylabel('log Adj. Close')\n",
    "plt.legend(loc = 'best')"
   ]
  },
  {
   "cell_type": "markdown",
   "metadata": {
    "id": "t8Iy1lORRhN5"
   },
   "source": [
    "###Modeling"
   ]
  },
  {
   "cell_type": "code",
   "execution_count": null,
   "metadata": {
    "colab": {
     "base_uri": "https://localhost:8080/"
    },
    "id": "dlUNaxD8tfug",
    "outputId": "1fe93d92-0543-4dbd-9dcc-a1c07ec53719"
   },
   "outputs": [],
   "source": [
    "GOOG_Auto_ARIMA_Model = auto_arima(GOOG_Train_Data['log Adj. Close'], seasonal = False,\n",
    "                                   error_action = 'ignore', suppress_warnings = True)\n",
    "print(GOOG_Auto_ARIMA_Model.summary())"
   ]
  },
  {
   "cell_type": "code",
   "execution_count": null,
   "metadata": {
    "colab": {
     "base_uri": "https://localhost:8080/"
    },
    "id": "cZEjonRRtwpd",
    "outputId": "b6f42fa9-e745-43ec-92da-ffc13c6c0d29"
   },
   "outputs": [],
   "source": [
    "GOOG_ARIMA_Model = ARIMA(GOOG_Train_Data['log Adj. Close'], order = (1, 1, 0))\n",
    "GOOG_ARIMA_Model_Fit = GOOG_ARIMA_Model.fit()\n",
    "print(GOOG_ARIMA_Model_Fit.summary())"
   ]
  },
  {
   "cell_type": "markdown",
   "metadata": {
    "id": "qacgTwHNNBtt"
   },
   "source": [
    "###Predicting the closing stock price of Google"
   ]
  },
  {
   "cell_type": "code",
   "execution_count": null,
   "metadata": {
    "colab": {
     "base_uri": "https://localhost:8080/",
     "height": 351
    },
    "id": "V-PcSO-at-qT",
    "outputId": "d4545453-fe45-4f8e-bfdc-0bad7e1c4b3e"
   },
   "outputs": [],
   "source": [
    "GOOG_output = GOOG_ARIMA_Model_Fit.forecast(80, alpha=0.05)\n",
    "GOOG_predictions = np.exp(GOOG_output[0])\n",
    "plt.figure(figsize=(10, 5))\n",
    "plt.plot(GOOG_Train_Data['Date'], GOOG_Train_Data['Adj. Close'], label = 'Training')\n",
    "plt.plot(GOOG_Test_Data['Date'], GOOG_Test_Data['Adj. Close'], label = 'Testing')\n",
    "plt.plot(GOOG_Test_Data['Date'], GOOG_predictions, label = 'Predictions')\n",
    "plt.xlabel('Time')\n",
    "plt.ylabel('Closing Price')\n",
    "plt.legend()"
   ]
  },
  {
   "cell_type": "code",
   "execution_count": null,
   "metadata": {
    "colab": {
     "base_uri": "https://localhost:8080/"
    },
    "id": "fc894ymcuJJW",
    "outputId": "10447a51-6d60-4825-b4b9-3fe64858adc4"
   },
   "outputs": [],
   "source": [
    "rmse = math.sqrt(mean_squared_error(GOOG_Test_Data['Adj. Close'], GOOG_predictions))\n",
    "mape = np.mean(np.abs(GOOG_predictions - GOOG_Test_Data['Adj. Close'])/np.abs(GOOG_Test_Data['Adj. Close']))\n",
    "\n",
    "print(f'RMSE: {rmse}')\n",
    "print(f'MAPE: {mape}')"
   ]
  },
  {
   "cell_type": "markdown",
   "metadata": {
    "id": "j_W5QhHlzCmI"
   },
   "source": [
    "#Microsoft"
   ]
  },
  {
   "cell_type": "code",
   "execution_count": null,
   "metadata": {
    "colab": {
     "base_uri": "https://localhost:8080/",
     "height": 195
    },
    "id": "S9u6WSEUunoE",
    "outputId": "2c86580f-aa4c-4a83-e208-22189d28d978"
   },
   "outputs": [],
   "source": [
    "MSFT.head()"
   ]
  },
  {
   "cell_type": "code",
   "execution_count": null,
   "metadata": {
    "colab": {
     "base_uri": "https://localhost:8080/"
    },
    "id": "eRKz1iCtupHM",
    "outputId": "2242e99a-b388-4ca4-807b-f7d077c286c3"
   },
   "outputs": [],
   "source": [
    "MSFT.info()"
   ]
  },
  {
   "cell_type": "code",
   "execution_count": null,
   "metadata": {
    "id": "kD4cy5Laurga"
   },
   "outputs": [],
   "source": [
    "# Change Dtype of Date column\n",
    "MSFT[\"Date\"] = pd.to_datetime(MSFT[\"Date\"])"
   ]
  },
  {
   "cell_type": "code",
   "execution_count": null,
   "metadata": {
    "colab": {
     "base_uri": "https://localhost:8080/"
    },
    "id": "V6VHqbXkuypI",
    "outputId": "87c86f2e-a252-4b25-a991-cd430846b1c9"
   },
   "outputs": [],
   "source": [
    "Test_Stationarity(MSFT)"
   ]
  },
  {
   "cell_type": "markdown",
   "metadata": {
    "id": "dhhaesjtKf2B"
   },
   "source": [
    "The p-value > 0.05, so we cannot reject the Null hypothesis. Hence, we would need to use the “Integrated (I)” concept, denoted by value ‘d’ in time series, to make the data stationary while building the Auto ARIMA model."
   ]
  },
  {
   "cell_type": "markdown",
   "metadata": {
    "id": "F-7f4tw3Luoc"
   },
   "source": [
    "Now let's take log of the 'Adj. Close' column to reduce the magnitude of the values and reduce the series rising trend."
   ]
  },
  {
   "cell_type": "code",
   "execution_count": null,
   "metadata": {
    "colab": {
     "base_uri": "https://localhost:8080/",
     "height": 367
    },
    "id": "PDUMAlDvu3xG",
    "outputId": "fe1e4944-ae92-4a36-f929-db26369c1a88"
   },
   "outputs": [],
   "source": [
    "MSFT['log Adj. Close'] = np.log(MSFT['Adj. Close'])\n",
    "MSFT_log_moving_avg = MSFT['log Adj. Close'].rolling(12).mean()\n",
    "MSFT_log_std = MSFT['log Adj. Close'].rolling(12).std()\n",
    "\n",
    "plt.figure(figsize = (10, 5))\n",
    "plt.plot(MSFT['Date'], MSFT_log_moving_avg, label = \"Rolling Mean\")\n",
    "plt.plot(MSFT['Date'], MSFT_log_std, label = \"Rolling Std\")\n",
    "plt.xlabel('Time')\n",
    "plt.ylabel('log Adj. Close')\n",
    "plt.legend(loc = 'best')\n",
    "plt.title(\"Rolling Mean and Standard Deviation\")"
   ]
  },
  {
   "cell_type": "markdown",
   "metadata": {
    "id": "isAR11JHMYWV"
   },
   "source": [
    "###Split the data into training and test set\n",
    "    Training Period: 2015-01-02 - 2020-09-30\n",
    "\n",
    "    Testing Period:  2020-10-01 - 2021-02-26"
   ]
  },
  {
   "cell_type": "code",
   "execution_count": null,
   "metadata": {
    "colab": {
     "base_uri": "https://localhost:8080/",
     "height": 351
    },
    "id": "vuyO02PHvLdl",
    "outputId": "d2f2265e-6533-453b-83e1-7d6daa532c00"
   },
   "outputs": [],
   "source": [
    "MSFT_Train_Data = MSFT[MSFT['Date'] < '2020-10-01']\n",
    "MSFT_Test_Data = MSFT[MSFT['Date'] >= '2020-10-01'].reset_index(drop = True)\n",
    "\n",
    "plt.figure(figsize = (10, 5))\n",
    "plt.plot(MSFT_Train_Data['Date'], MSFT_Train_Data['log Adj. Close'], label = 'Train Data')\n",
    "plt.plot(MSFT_Test_Data['Date'], MSFT_Test_Data['log Adj. Close'], label = 'Test Data')\n",
    "plt.xlabel('Time')\n",
    "plt.ylabel('log Adj. Close')\n",
    "plt.legend(loc = 'best')"
   ]
  },
  {
   "cell_type": "markdown",
   "metadata": {
    "id": "psRZu2CDRlP3"
   },
   "source": [
    "###Modeling"
   ]
  },
  {
   "cell_type": "code",
   "execution_count": null,
   "metadata": {
    "colab": {
     "base_uri": "https://localhost:8080/"
    },
    "id": "gg7RggbCvcPN",
    "outputId": "b89d0cf7-5162-48c3-8e46-90dcb428f158"
   },
   "outputs": [],
   "source": [
    "MSFT_Auto_ARIMA_Model = auto_arima(MSFT_Train_Data['log Adj. Close'], seasonal = False,\n",
    "                                   error_action = 'ignore', suppress_warnings = True)\n",
    "print(MSFT_Auto_ARIMA_Model.summary())"
   ]
  },
  {
   "cell_type": "code",
   "execution_count": null,
   "metadata": {
    "colab": {
     "base_uri": "https://localhost:8080/"
    },
    "id": "BPLIuK-CvqJy",
    "outputId": "d99230ae-d46b-476b-dd2f-18d19f503788"
   },
   "outputs": [],
   "source": [
    "MSFT_ARIMA_Model = ARIMA(MSFT_Train_Data['log Adj. Close'], order = (1, 1, 0))\n",
    "MSFT_ARIMA_Model_Fit = MSFT_ARIMA_Model.fit()\n",
    "print(MSFT_ARIMA_Model_Fit.summary())"
   ]
  },
  {
   "cell_type": "markdown",
   "metadata": {
    "id": "K_45tUmFNFWt"
   },
   "source": [
    "###Predicting the closing stock price of Microsoft"
   ]
  },
  {
   "cell_type": "code",
   "execution_count": null,
   "metadata": {
    "colab": {
     "base_uri": "https://localhost:8080/",
     "height": 351
    },
    "id": "sAKpYMxXvybd",
    "outputId": "1666fba7-4809-4154-d793-a16aeb93a42b"
   },
   "outputs": [],
   "source": [
    "MSFT_output = MSFT_ARIMA_Model_Fit.forecast(102, alpha=0.05)\n",
    "MSFT_predictions = np.exp(MSFT_output[0])\n",
    "plt.figure(figsize=(10, 5))\n",
    "plt.plot(MSFT_Train_Data['Date'], MSFT_Train_Data['Adj. Close'], label = 'Training')\n",
    "plt.plot(MSFT_Test_Data['Date'], MSFT_Test_Data['Adj. Close'], label = 'Testing')\n",
    "plt.plot(MSFT_Test_Data['Date'], MSFT_predictions, label = 'Predictions')\n",
    "plt.xlabel('Time')\n",
    "plt.ylabel('Closing Price')\n",
    "plt.legend()"
   ]
  },
  {
   "cell_type": "code",
   "execution_count": null,
   "metadata": {
    "colab": {
     "base_uri": "https://localhost:8080/"
    },
    "id": "9b1MDWjNv-Aj",
    "outputId": "790d4b91-d085-4b3d-fbcc-ba23e46bc247"
   },
   "outputs": [],
   "source": [
    "rmse = math.sqrt(mean_squared_error(MSFT_Test_Data['Adj. Close'], MSFT_predictions))\n",
    "mape = np.mean(np.abs(MSFT_predictions - MSFT_Test_Data['Adj. Close'])/np.abs(MSFT_Test_Data['Adj. Close']))\n",
    "\n",
    "print(f'RMSE: {rmse}')\n",
    "print(f'MAPE: {mape}')"
   ]
  },
  {
   "cell_type": "markdown",
   "metadata": {
    "id": "b2PZvGA2zLPq"
   },
   "source": [
    "#Amazon"
   ]
  },
  {
   "cell_type": "code",
   "execution_count": null,
   "metadata": {
    "colab": {
     "base_uri": "https://localhost:8080/",
     "height": 195
    },
    "id": "YFUiwuB8wQcT",
    "outputId": "ca5f7906-326c-425b-df92-17ecc97aae0f"
   },
   "outputs": [],
   "source": [
    "AMZN.head()"
   ]
  },
  {
   "cell_type": "code",
   "execution_count": null,
   "metadata": {
    "colab": {
     "base_uri": "https://localhost:8080/"
    },
    "id": "CZw66OsHwYSX",
    "outputId": "bccc89be-8bb4-4492-c96a-48eef0c8b6c8"
   },
   "outputs": [],
   "source": [
    "AMZN.info()"
   ]
  },
  {
   "cell_type": "code",
   "execution_count": null,
   "metadata": {
    "id": "GaElbNDDwZg1"
   },
   "outputs": [],
   "source": [
    "# Change Dtype of Date column\n",
    "AMZN[\"Date\"] = pd.to_datetime(AMZN[\"Date\"])"
   ]
  },
  {
   "cell_type": "code",
   "execution_count": null,
   "metadata": {
    "colab": {
     "base_uri": "https://localhost:8080/"
    },
    "id": "SmSimPQ7wfHt",
    "outputId": "5a6963ee-3835-4ecb-d3ea-b29e76f65809"
   },
   "outputs": [],
   "source": [
    "Test_Stationarity(AMZN)"
   ]
  },
  {
   "cell_type": "markdown",
   "metadata": {
    "id": "2TpUEFcJKi5k"
   },
   "source": [
    "The p-value > 0.05, so we cannot reject the Null hypothesis. Hence, we would need to use the “Integrated (I)” concept, denoted by value ‘d’ in time series, to make the data stationary while building the Auto ARIMA model."
   ]
  },
  {
   "cell_type": "markdown",
   "metadata": {
    "id": "LeSztRY0LyPV"
   },
   "source": [
    "Now let's take log of the 'Adj. Close' column to reduce the magnitude of the values and reduce the series rising trend."
   ]
  },
  {
   "cell_type": "code",
   "execution_count": null,
   "metadata": {
    "colab": {
     "base_uri": "https://localhost:8080/",
     "height": 367
    },
    "id": "3i94PqZNwkgd",
    "outputId": "0a7549fd-d6bb-4bb5-87af-22e07f371814"
   },
   "outputs": [],
   "source": [
    "AMZN['log Adj. Close'] = np.log(AMZN['Adj. Close'])\n",
    "AMZN_log_moving_avg = AMZN['log Adj. Close'].rolling(12).mean()\n",
    "AMZN_log_std = AMZN['log Adj. Close'].rolling(12).std()\n",
    "\n",
    "plt.figure(figsize = (10, 5))\n",
    "plt.plot(AMZN['Date'], AMZN_log_moving_avg, label = \"Rolling Mean\")\n",
    "plt.plot(AMZN['Date'], AMZN_log_std, label = \"Rolling Std\")\n",
    "plt.xlabel('Time')\n",
    "plt.ylabel('log Adj. Close')\n",
    "plt.legend(loc = 'best')\n",
    "plt.title(\"Rolling Mean and Standard Deviation\")"
   ]
  },
  {
   "cell_type": "markdown",
   "metadata": {
    "id": "0K0pUngEMbo9"
   },
   "source": [
    "###Split the data into training and test set\n",
    "    Training Period: 2015-01-02 - 2020-10-30\n",
    "\n",
    "    Testing Period:  2020-11-02 - 2021-02-26"
   ]
  },
  {
   "cell_type": "code",
   "execution_count": null,
   "metadata": {
    "colab": {
     "base_uri": "https://localhost:8080/",
     "height": 351
    },
    "id": "XSQ_FNdOw0z2",
    "outputId": "259e0f61-18af-45c8-8f19-949ebe7b9d09"
   },
   "outputs": [],
   "source": [
    "AMZN_Train_Data = AMZN[AMZN['Date'] < '2020-11-01']\n",
    "AMZN_Test_Data = AMZN[AMZN['Date'] >= '2020-11-01'].reset_index(drop = True)\n",
    "\n",
    "plt.figure(figsize = (10, 5))\n",
    "plt.plot(AMZN_Train_Data['Date'], AMZN_Train_Data['log Adj. Close'], label = 'Train Data')\n",
    "plt.plot(AMZN_Test_Data['Date'], AMZN_Test_Data['log Adj. Close'], label = 'Test Data')\n",
    "plt.xlabel('Time')\n",
    "plt.ylabel('log Adj. Close')\n",
    "plt.legend(loc = 'best')"
   ]
  },
  {
   "cell_type": "markdown",
   "metadata": {
    "id": "5Qm9bCGQRoxZ"
   },
   "source": [
    "###Modeling"
   ]
  },
  {
   "cell_type": "code",
   "execution_count": null,
   "metadata": {
    "colab": {
     "base_uri": "https://localhost:8080/"
    },
    "id": "doJ6f30axHK_",
    "outputId": "5f7083a8-bcec-4257-bb70-cfeb9834f411"
   },
   "outputs": [],
   "source": [
    "AMZN_Auto_ARIMA_Model = auto_arima(AMZN_Train_Data['log Adj. Close'], seasonal = False,\n",
    "                                   error_action = 'ignore', suppress_warnings = True)\n",
    "print(AMZN_Auto_ARIMA_Model.summary())"
   ]
  },
  {
   "cell_type": "code",
   "execution_count": null,
   "metadata": {
    "colab": {
     "base_uri": "https://localhost:8080/"
    },
    "id": "orJs2sk7xY1s",
    "outputId": "c09871ca-37da-4c83-e659-edc82083e94f"
   },
   "outputs": [],
   "source": [
    "AMZN_ARIMA_Model = ARIMA(AMZN_Train_Data['log Adj. Close'], order = (0, 1, 0))\n",
    "AMZN_ARIMA_Model_Fit = AMZN_ARIMA_Model.fit()\n",
    "print(AMZN_ARIMA_Model_Fit.summary())"
   ]
  },
  {
   "cell_type": "markdown",
   "metadata": {
    "id": "MW8Hh1mENILx"
   },
   "source": [
    "###Predicting the closing stock price of Amazon"
   ]
  },
  {
   "cell_type": "code",
   "execution_count": null,
   "metadata": {
    "colab": {
     "base_uri": "https://localhost:8080/",
     "height": 351
    },
    "id": "8ApmgHP-xhQX",
    "outputId": "5bb3d842-7bd2-4e1b-a123-335c9e4d5719"
   },
   "outputs": [],
   "source": [
    "AMZN_output = AMZN_ARIMA_Model_Fit.forecast(80, alpha=0.05)\n",
    "AMZN_predictions = np.exp(AMZN_output[0])\n",
    "plt.figure(figsize=(10, 5))\n",
    "plt.plot(AMZN_Train_Data['Date'], AMZN_Train_Data['Adj. Close'], label = 'Training')\n",
    "plt.plot(AMZN_Test_Data['Date'], AMZN_Test_Data['Adj. Close'], label = 'Testing')\n",
    "plt.plot(AMZN_Test_Data['Date'], AMZN_predictions, label = 'Predictions')\n",
    "plt.xlabel('Time')\n",
    "plt.ylabel('Closing Price')\n",
    "plt.legend()"
   ]
  },
  {
   "cell_type": "code",
   "execution_count": null,
   "metadata": {
    "colab": {
     "base_uri": "https://localhost:8080/"
    },
    "id": "86FDrtlTxuVH",
    "outputId": "a1115ce1-bafd-4bd1-f7a5-9dc630bb1e42"
   },
   "outputs": [],
   "source": [
    "rmse = math.sqrt(mean_squared_error(AMZN_Test_Data['Adj. Close'], AMZN_predictions))\n",
    "mape = np.mean(np.abs(AMZN_predictions - AMZN_Test_Data['Adj. Close'])/np.abs(AMZN_Test_Data['Adj. Close']))\n",
    "\n",
    "print(f'RMSE: {rmse}')\n",
    "print(f'MAPE: {mape}')"
   ]
  }
 ],
 "metadata": {
  "colab": {
   "authorship_tag": "ABX9TyPpyFsvJxIabvD1WbknBzRi",
   "collapsed_sections": [],
   "include_colab_link": true,
   "mount_file_id": "1n3W-8OZXXdYm3NEYlLEM2u3Y51t8_Jav",
   "name": "ARIMA_Model.ipynb",
   "provenance": []
  },
  "kernelspec": {
   "display_name": "Python 3 (ipykernel)",
   "language": "python",
   "name": "python3"
  },
  "language_info": {
   "codemirror_mode": {
    "name": "ipython",
    "version": 3
   },
   "file_extension": ".py",
   "mimetype": "text/x-python",
   "name": "python",
   "nbconvert_exporter": "python",
   "pygments_lexer": "ipython3",
   "version": "3.9.2"
  }
 },
 "nbformat": 4,
 "nbformat_minor": 1
}
