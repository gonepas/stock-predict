{
 "cells": [
  {
   "cell_type": "code",
   "execution_count": null,
   "metadata": {
    "pycharm": {
     "name": "#%%\n"
    }
   },
   "outputs": [],
   "source": []
  },
  {
   "cell_type": "markdown",
   "metadata": {},
   "source": [
    "<a href=\"https://colab.research.google.com/github/amanjain252002/Stock-Price-Prediction/blob/main/Deep_Learning_Model.ipynb\" target=\"_parent\"><img src=\"https://colab.research.google.com/assets/colab-badge.svg\" alt=\"Open In Colab\"/></a>"
   ]
  },
  {
   "cell_type": "code",
   "execution_count": 43,
   "metadata": {
    "pycharm": {
     "name": "#%%\n"
    }
   },
   "outputs": [],
   "source": [
    "import math\n",
    "import numpy as np\n",
    "import pandas as pd\n",
    "import matplotlib.pyplot as plt\n",
    "\n",
    "import tensorflow as tf\n",
    "from sklearn.metrics import mean_squared_error, mean_absolute_error\n",
    "\n",
    "import warnings\n",
    "warnings.filterwarnings('ignore')"
   ]
  },
  {
   "cell_type": "code",
   "execution_count": 44,
   "metadata": {
    "pycharm": {
     "name": "#%%\n"
    }
   },
   "outputs": [],
   "source": [
    "TSLA = pd.read_csv('Data/FB.csv')"
   ]
  },
  {
   "cell_type": "markdown",
   "metadata": {},
   "source": [
    "### Data Proprocessing"
   ]
  },
  {
   "cell_type": "code",
   "execution_count": 45,
   "metadata": {
    "pycharm": {
     "name": "#%%\n"
    }
   },
   "outputs": [],
   "source": [
    "def Dataset(Data, Date):\n",
    "\n",
    "  Train_Data = Data['Adj Close'][Data['Date'] < Date].to_numpy()\n",
    "  Data_Train = []\n",
    "  Data_Train_X = []\n",
    "  Data_Train_Y = []\n",
    "  for i in range(0, len(Train_Data), 5):\n",
    "    try:\n",
    "      Data_Train.append(Train_Data[i : i + 5])\n",
    "    except:\n",
    "      pass\n",
    "\n",
    "  if len(Data_Train[-1]) < 5:\n",
    "    Data_Train.pop(-1)\n",
    "\n",
    "  Data_Train_X = Data_Train[0 : -1]\n",
    "  Data_Train_X = np.array(Data_Train_X)\n",
    "  Data_Train_X = Data_Train_X.reshape((-1, 5, 1))\n",
    "  Data_Train_Y = Data_Train[1 : len(Data_Train)]\n",
    "  Data_Train_Y = np.array(Data_Train_Y)\n",
    "  Data_Train_Y = Data_Train_Y.reshape((-1, 5, 1))\n",
    "\n",
    "\n",
    "  Test_Data = Data['Adj Close'][Data['Date'] >= Date].to_numpy()\n",
    "  Data_Test = []\n",
    "  Data_Test_X = []\n",
    "  Data_Test_Y = []\n",
    "  for i in range(0, len(Test_Data), 5):\n",
    "    try:\n",
    "      Data_Test.append(Test_Data[i : i + 5])\n",
    "    except:\n",
    "      pass\n",
    "\n",
    "  if len(Data_Test[-1]) < 5:\n",
    "    Data_Test.pop(-1)\n",
    "\n",
    "  Data_Test_X = Data_Test[0 : -1]\n",
    "  Data_Test_X = np.array(Data_Test_X)\n",
    "  Data_Test_X = Data_Test_X.reshape((-1, 5, 1))\n",
    "  Data_Test_Y = Data_Test[1 : len(Data_Test)]\n",
    "  Data_Test_Y = np.array(Data_Test_Y)\n",
    "  Data_Test_Y = Data_Test_Y.reshape((-1, 5, 1))\n",
    "\n",
    "  return Data_Train_X, Data_Train_Y, Data_Test_X, Data_Test_Y"
   ]
  },
  {
   "cell_type": "markdown",
   "metadata": {},
   "source": [
    "### Model"
   ]
  },
  {
   "cell_type": "code",
   "execution_count": 46,
   "metadata": {
    "pycharm": {
     "name": "#%%\n"
    }
   },
   "outputs": [],
   "source": [
    "def Model():\n",
    "  model = tf.keras.models.Sequential([\n",
    "                                      tf.keras.layers.LSTM(200, input_shape = (5, 1), activation = tf.nn.leaky_relu, return_sequences = True),\n",
    "                                      tf.keras.layers.LSTM(200, activation = tf.nn.leaky_relu),\n",
    "                                      tf.keras.layers.Dense(200, activation = tf.nn.leaky_relu),\n",
    "                                      tf.keras.layers.Dense(100, activation = tf.nn.leaky_relu),\n",
    "                                      tf.keras.layers.Dense(50, activation = tf.nn.leaky_relu),\n",
    "                                      tf.keras.layers.Dense(5, activation = tf.nn.leaky_relu)\n",
    "                                      ])\n",
    "  return model"
   ]
  },
  {
   "cell_type": "code",
   "execution_count": 47,
   "metadata": {
    "pycharm": {
     "name": "#%%\n"
    }
   },
   "outputs": [],
   "source": [
    "model = Model()"
   ]
  },
  {
   "cell_type": "code",
   "execution_count": 48,
   "metadata": {
    "pycharm": {
     "name": "#%%\n"
    }
   },
   "outputs": [
    {
     "name": "stdout",
     "output_type": "stream",
     "text": [
      "('You must install pydot (`pip install pydot`) and install graphviz (see instructions at https://graphviz.gitlab.io/download/) ', 'for plot_model/model_to_dot to work.')\n"
     ]
    }
   ],
   "source": [
    "tf.keras.utils.plot_model(model, show_shapes=True)"
   ]
  },
  {
   "cell_type": "code",
   "execution_count": 49,
   "metadata": {
    "pycharm": {
     "name": "#%%\n"
    }
   },
   "outputs": [
    {
     "name": "stdout",
     "output_type": "stream",
     "text": [
      "Model: \"sequential_4\"\n",
      "_________________________________________________________________\n",
      "Layer (type)                 Output Shape              Param #   \n",
      "=================================================================\n",
      "lstm_8 (LSTM)                (None, 5, 200)            161600    \n",
      "_________________________________________________________________\n",
      "lstm_9 (LSTM)                (None, 200)               320800    \n",
      "_________________________________________________________________\n",
      "dense_16 (Dense)             (None, 200)               40200     \n",
      "_________________________________________________________________\n",
      "dense_17 (Dense)             (None, 100)               20100     \n",
      "_________________________________________________________________\n",
      "dense_18 (Dense)             (None, 50)                5050      \n",
      "_________________________________________________________________\n",
      "dense_19 (Dense)             (None, 5)                 255       \n",
      "=================================================================\n",
      "Total params: 548,005\n",
      "Trainable params: 548,005\n",
      "Non-trainable params: 0\n",
      "_________________________________________________________________\n"
     ]
    }
   ],
   "source": [
    "model.summary()"
   ]
  },
  {
   "cell_type": "markdown",
   "metadata": {},
   "source": [
    "### Custom Learning Rate"
   ]
  },
  {
   "cell_type": "code",
   "execution_count": 50,
   "metadata": {
    "pycharm": {
     "name": "#%%\n"
    }
   },
   "outputs": [],
   "source": [
    "def scheduler(epoch):\n",
    "\n",
    "  if epoch <= 150:\n",
    "    lrate = (10 ** -5) * (epoch / 150)\n",
    "  elif epoch <= 400:\n",
    "    initial_lrate = (10 ** -5)\n",
    "    k = 0.01\n",
    "    lrate = initial_lrate * math.exp(-k * (epoch - 150))\n",
    "  else:\n",
    "    lrate = (10 ** -6)\n",
    "\n",
    "  return lrate"
   ]
  },
  {
   "cell_type": "code",
   "execution_count": 51,
   "metadata": {
    "pycharm": {
     "name": "#%%\n"
    }
   },
   "outputs": [
    {
     "data": {
      "text/plain": [
       "[<matplotlib.lines.Line2D at 0x7fc9d8df7160>]"
      ]
     },
     "execution_count": 51,
     "metadata": {},
     "output_type": "execute_result"
    },
    {
     "data": {
      "image/png": "[encoded data removed]",
      "text/plain": [
       "<Figure size 432x288 with 1 Axes>"
      ]
     },
     "metadata": {
      "needs_background": "light"
     },
     "output_type": "display_data"
    }
   ],
   "source": [
    "epochs = [i for i in range(1, 1001, 1)]\n",
    "lrate = [scheduler(i) for i in range(1, 1001, 1)]\n",
    "plt.plot(epochs, lrate)"
   ]
  },
  {
   "cell_type": "code",
   "execution_count": 52,
   "metadata": {
    "pycharm": {
     "name": "#%%\n"
    }
   },
   "outputs": [],
   "source": [
    "callback = tf.keras.callbacks.LearningRateScheduler(scheduler)\n"
   ]
  },
  {
   "cell_type": "markdown",
   "metadata": {},
   "source": [
    "#Tesla"
   ]
  },
  {
   "cell_type": "code",
   "execution_count": 53,
   "metadata": {
    "pycharm": {
     "name": "#%%\n"
    }
   },
   "outputs": [
    {
     "data": {
      "text/html": [
       "<div>\n",
       "<style scoped>\n",
       "    .dataframe tbody tr th:only-of-type {\n",
       "        vertical-align: middle;\n",
       "    }\n",
       "\n",
       "    .dataframe tbody tr th {\n",
       "        vertical-align: top;\n",
       "    }\n",
       "\n",
       "    .dataframe thead th {\n",
       "        text-align: right;\n",
       "    }\n",
       "</style>\n",
       "<table border=\"1\" class=\"dataframe\">\n",
       "  <thead>\n",
       "    <tr style=\"text-align: right;\">\n",
       "      <th></th>\n",
       "      <th>Date</th>\n",
       "      <th>Open</th>\n",
       "      <th>High</th>\n",
       "      <th>Low</th>\n",
       "      <th>Close</th>\n",
       "      <th>Adj Close</th>\n",
       "      <th>Volume</th>\n",
       "    </tr>\n",
       "  </thead>\n",
       "  <tbody>\n",
       "    <tr>\n",
       "      <th>0</th>\n",
       "      <td>2020-01-02</td>\n",
       "      <td>206.750000</td>\n",
       "      <td>209.789993</td>\n",
       "      <td>206.270004</td>\n",
       "      <td>209.779999</td>\n",
       "      <td>209.779999</td>\n",
       "      <td>12077100</td>\n",
       "    </tr>\n",
       "    <tr>\n",
       "      <th>1</th>\n",
       "      <td>2020-01-03</td>\n",
       "      <td>207.210007</td>\n",
       "      <td>210.399994</td>\n",
       "      <td>206.949997</td>\n",
       "      <td>208.669998</td>\n",
       "      <td>208.669998</td>\n",
       "      <td>11188400</td>\n",
       "    </tr>\n",
       "    <tr>\n",
       "      <th>2</th>\n",
       "      <td>2020-01-06</td>\n",
       "      <td>206.699997</td>\n",
       "      <td>212.779999</td>\n",
       "      <td>206.520004</td>\n",
       "      <td>212.600006</td>\n",
       "      <td>212.600006</td>\n",
       "      <td>17058900</td>\n",
       "    </tr>\n",
       "    <tr>\n",
       "      <th>3</th>\n",
       "      <td>2020-01-07</td>\n",
       "      <td>212.820007</td>\n",
       "      <td>214.580002</td>\n",
       "      <td>211.750000</td>\n",
       "      <td>213.059998</td>\n",
       "      <td>213.059998</td>\n",
       "      <td>14912400</td>\n",
       "    </tr>\n",
       "    <tr>\n",
       "      <th>4</th>\n",
       "      <td>2020-01-08</td>\n",
       "      <td>213.000000</td>\n",
       "      <td>216.240005</td>\n",
       "      <td>212.610001</td>\n",
       "      <td>215.220001</td>\n",
       "      <td>215.220001</td>\n",
       "      <td>13475000</td>\n",
       "    </tr>\n",
       "  </tbody>\n",
       "</table>\n",
       "</div>"
      ],
      "text/plain": [
       "         Date        Open        High         Low       Close   Adj Close  \\\n",
       "0  2020-01-02  206.750000  209.789993  206.270004  209.779999  209.779999   \n",
       "1  2020-01-03  207.210007  210.399994  206.949997  208.669998  208.669998   \n",
       "2  2020-01-06  206.699997  212.779999  206.520004  212.600006  212.600006   \n",
       "3  2020-01-07  212.820007  214.580002  211.750000  213.059998  213.059998   \n",
       "4  2020-01-08  213.000000  216.240005  212.610001  215.220001  215.220001   \n",
       "\n",
       "     Volume  \n",
       "0  12077100  \n",
       "1  11188400  \n",
       "2  17058900  \n",
       "3  14912400  \n",
       "4  13475000  "
      ]
     },
     "execution_count": 53,
     "metadata": {},
     "output_type": "execute_result"
    }
   ],
   "source": [
    "TSLA.head()"
   ]
  },
  {
   "cell_type": "code",
   "execution_count": 54,
   "metadata": {
    "pycharm": {
     "name": "#%%\n"
    }
   },
   "outputs": [
    {
     "name": "stdout",
     "output_type": "stream",
     "text": [
      "<class 'pandas.core.frame.DataFrame'>\n",
      "RangeIndex: 428 entries, 0 to 427\n",
      "Data columns (total 7 columns):\n",
      " #   Column     Non-Null Count  Dtype  \n",
      "---  ------     --------------  -----  \n",
      " 0   Date       428 non-null    object \n",
      " 1   Open       428 non-null    float64\n",
      " 2   High       428 non-null    float64\n",
      " 3   Low        428 non-null    float64\n",
      " 4   Close      428 non-null    float64\n",
      " 5   Adj Close  428 non-null    float64\n",
      " 6   Volume     428 non-null    int64  \n",
      "dtypes: float64(5), int64(1), object(1)\n",
      "memory usage: 23.5+ KB\n"
     ]
    }
   ],
   "source": [
    "TSLA.info()"
   ]
  },
  {
   "cell_type": "code",
   "execution_count": 55,
   "metadata": {
    "pycharm": {
     "name": "#%%\n"
    }
   },
   "outputs": [],
   "source": [
    "# Change Dtype of Date column\n",
    "TSLA[\"Date\"] = pd.to_datetime(TSLA[\"Date\"])"
   ]
  },
  {
   "cell_type": "markdown",
   "metadata": {},
   "source": [
    "###Split the Data into Training and Test set\n",
    "    Training Period: 2015-01-02 - 2020-09-30\n",
    "\n",
    "    Testing Period:  2020-10-01 - 2021-02-26"
   ]
  },
  {
   "cell_type": "code",
   "execution_count": 56,
   "metadata": {
    "pycharm": {
     "name": "#%%\n"
    }
   },
   "outputs": [],
   "source": [
    "TSLA_Date = '2020-10-01'\n",
    "TSLA_Train_X, TSLA_Train_Y, TSLA_Test_X, TSLA_Test_Y = Dataset(TSLA, TSLA_Date)"
   ]
  },
  {
   "cell_type": "markdown",
   "metadata": {},
   "source": [
    "### Model Fitting"
   ]
  },
  {
   "cell_type": "code",
   "execution_count": 57,
   "metadata": {
    "pycharm": {
     "name": "#%%\n"
    }
   },
   "outputs": [],
   "source": [
    "TSLA_Model = Model()"
   ]
  },
  {
   "cell_type": "code",
   "execution_count": 58,
   "metadata": {
    "pycharm": {
     "name": "#%%\n"
    }
   },
   "outputs": [],
   "source": [
    "TSLA_Model.compile(optimizer = tf.keras.optimizers.Adam(), loss = 'mse', metrics = tf.keras.metrics.RootMeanSquaredError())"
   ]
  },
  {
   "cell_type": "code",
   "execution_count": 59,
   "metadata": {
    "pycharm": {
     "name": "#%%\n"
    }
   },
   "outputs": [
    {
     "name": "stdout",
     "output_type": "stream",
     "text": [
      "Epoch 1/200\n",
      "2/2 [==============================] - 2s 266ms/step - loss: 49932.8359 - root_mean_squared_error: 223.4566 - val_loss: 93406.6094 - val_root_mean_squared_error: 305.6249\n",
      "Epoch 2/200\n",
      "2/2 [==============================] - 0s 34ms/step - loss: 49932.8242 - root_mean_squared_error: 223.4565 - val_loss: 93406.0547 - val_root_mean_squared_error: 305.6241\n",
      "Epoch 3/200\n",
      "2/2 [==============================] - 0s 35ms/step - loss: 49932.5352 - root_mean_squared_error: 223.4559 - val_loss: 93404.9531 - val_root_mean_squared_error: 305.6223\n",
      "Epoch 4/200\n",
      "2/2 [==============================] - 0s 31ms/step - loss: 49931.9766 - root_mean_squared_error: 223.4546 - val_loss: 93403.3047 - val_root_mean_squared_error: 305.6195\n",
      "Epoch 5/200\n",
      "2/2 [==============================] - 0s 34ms/step - loss: 49931.1133 - root_mean_squared_error: 223.4527 - val_loss: 93401.0859 - val_root_mean_squared_error: 305.6159\n",
      "Epoch 6/200\n",
      "2/2 [==============================] - 0s 33ms/step - loss: 49930.0078 - root_mean_squared_error: 223.4502 - val_loss: 93398.3281 - val_root_mean_squared_error: 305.6114\n",
      "Epoch 7/200\n",
      "2/2 [==============================] - 0s 39ms/step - loss: 49928.5820 - root_mean_squared_error: 223.4471 - val_loss: 93395.0234 - val_root_mean_squared_error: 305.6060\n",
      "Epoch 8/200\n",
      "2/2 [==============================] - 0s 38ms/step - loss: 49926.8672 - root_mean_squared_error: 223.4432 - val_loss: 93391.1172 - val_root_mean_squared_error: 305.5996\n",
      "Epoch 9/200\n",
      "2/2 [==============================] - 0s 38ms/step - loss: 49924.8672 - root_mean_squared_error: 223.4387 - val_loss: 93386.5469 - val_root_mean_squared_error: 305.5921\n",
      "Epoch 10/200\n",
      "2/2 [==============================] - 0s 38ms/step - loss: 49922.5820 - root_mean_squared_error: 223.4336 - val_loss: 93381.3047 - val_root_mean_squared_error: 305.5836\n",
      "Epoch 11/200\n",
      "2/2 [==============================] - 0s 35ms/step - loss: 49919.9336 - root_mean_squared_error: 223.4277 - val_loss: 93375.4766 - val_root_mean_squared_error: 305.5740\n",
      "Epoch 12/200\n",
      "2/2 [==============================] - 0s 38ms/step - loss: 49916.9922 - root_mean_squared_error: 223.4211 - val_loss: 93369.0000 - val_root_mean_squared_error: 305.5634\n",
      "Epoch 13/200\n",
      "2/2 [==============================] - 0s 38ms/step - loss: 49913.6602 - root_mean_squared_error: 223.4137 - val_loss: 93361.8047 - val_root_mean_squared_error: 305.5517\n",
      "Epoch 14/200\n",
      "2/2 [==============================] - 0s 31ms/step - loss: 49910.2539 - root_mean_squared_error: 223.4060 - val_loss: 93353.9141 - val_root_mean_squared_error: 305.5387\n",
      "Epoch 15/200\n",
      "2/2 [==============================] - 0s 37ms/step - loss: 49906.2344 - root_mean_squared_error: 223.3970 - val_loss: 93345.3906 - val_root_mean_squared_error: 305.5248\n",
      "Epoch 16/200\n",
      "2/2 [==============================] - 0s 33ms/step - loss: 49902.2344 - root_mean_squared_error: 223.3881 - val_loss: 93336.2188 - val_root_mean_squared_error: 305.5098\n",
      "Epoch 17/200\n",
      "2/2 [==============================] - 0s 36ms/step - loss: 49897.6875 - root_mean_squared_error: 223.3779 - val_loss: 93326.5859 - val_root_mean_squared_error: 305.4940\n",
      "Epoch 18/200\n",
      "2/2 [==============================] - 0s 34ms/step - loss: 49892.9648 - root_mean_squared_error: 223.3673 - val_loss: 93316.3828 - val_root_mean_squared_error: 305.4773\n",
      "Epoch 19/200\n",
      "2/2 [==============================] - 0s 35ms/step - loss: 49887.8828 - root_mean_squared_error: 223.3560 - val_loss: 93305.5859 - val_root_mean_squared_error: 305.4596\n",
      "Epoch 20/200\n",
      "2/2 [==============================] - 0s 35ms/step - loss: 49882.5742 - root_mean_squared_error: 223.3441 - val_loss: 93294.0859 - val_root_mean_squared_error: 305.4408\n",
      "Epoch 21/200\n",
      "2/2 [==============================] - 0s 38ms/step - loss: 49876.9922 - root_mean_squared_error: 223.3316 - val_loss: 93282.0859 - val_root_mean_squared_error: 305.4212\n",
      "Epoch 22/200\n",
      "2/2 [==============================] - 0s 38ms/step - loss: 49870.8828 - root_mean_squared_error: 223.3179 - val_loss: 93269.4922 - val_root_mean_squared_error: 305.4005\n",
      "Epoch 23/200\n",
      "2/2 [==============================] - 0s 35ms/step - loss: 49864.7031 - root_mean_squared_error: 223.3040 - val_loss: 93256.1172 - val_root_mean_squared_error: 305.3787\n",
      "Epoch 24/200\n",
      "2/2 [==============================] - 0s 38ms/step - loss: 49858.1172 - root_mean_squared_error: 223.2893 - val_loss: 93242.0547 - val_root_mean_squared_error: 305.3556\n",
      "Epoch 25/200\n",
      "2/2 [==============================] - 0s 35ms/step - loss: 49851.1211 - root_mean_squared_error: 223.2736 - val_loss: 93227.3125 - val_root_mean_squared_error: 305.3315\n",
      "Epoch 26/200\n",
      "2/2 [==============================] - 0s 36ms/step - loss: 49843.9648 - root_mean_squared_error: 223.2576 - val_loss: 93211.8828 - val_root_mean_squared_error: 305.3062\n",
      "Epoch 27/200\n",
      "2/2 [==============================] - 0s 32ms/step - loss: 49836.2969 - root_mean_squared_error: 223.2404 - val_loss: 93195.6484 - val_root_mean_squared_error: 305.2796\n",
      "Epoch 28/200\n",
      "2/2 [==============================] - 0s 36ms/step - loss: 49828.3945 - root_mean_squared_error: 223.2227 - val_loss: 93178.4219 - val_root_mean_squared_error: 305.2514\n",
      "Epoch 29/200\n",
      "2/2 [==============================] - 0s 34ms/step - loss: 49820.1719 - root_mean_squared_error: 223.2043 - val_loss: 93160.1328 - val_root_mean_squared_error: 305.2214\n",
      "Epoch 30/200\n",
      "2/2 [==============================] - 0s 38ms/step - loss: 49811.5234 - root_mean_squared_error: 223.1850 - val_loss: 93140.8281 - val_root_mean_squared_error: 305.1898\n",
      "Epoch 31/200\n",
      "2/2 [==============================] - 0s 33ms/step - loss: 49802.3633 - root_mean_squared_error: 223.1644 - val_loss: 93120.3672 - val_root_mean_squared_error: 305.1563\n",
      "Epoch 32/200\n",
      "2/2 [==============================] - 0s 39ms/step - loss: 49792.9219 - root_mean_squared_error: 223.1433 - val_loss: 93098.8047 - val_root_mean_squared_error: 305.1210\n",
      "Epoch 33/200\n",
      "2/2 [==============================] - 0s 36ms/step - loss: 49782.7344 - root_mean_squared_error: 223.1205 - val_loss: 93075.7812 - val_root_mean_squared_error: 305.0832\n",
      "Epoch 34/200\n",
      "2/2 [==============================] - 0s 38ms/step - loss: 49772.5898 - root_mean_squared_error: 223.0977 - val_loss: 93051.3672 - val_root_mean_squared_error: 305.0432\n",
      "Epoch 35/200\n",
      "2/2 [==============================] - 0s 36ms/step - loss: 49761.5781 - root_mean_squared_error: 223.0730 - val_loss: 93026.5078 - val_root_mean_squared_error: 305.0025\n",
      "Epoch 36/200\n",
      "2/2 [==============================] - 0s 36ms/step - loss: 49750.3906 - root_mean_squared_error: 223.0480 - val_loss: 93001.0000 - val_root_mean_squared_error: 304.9607\n",
      "Epoch 37/200\n",
      "2/2 [==============================] - 0s 33ms/step - loss: 49738.7656 - root_mean_squared_error: 223.0219 - val_loss: 92974.5625 - val_root_mean_squared_error: 304.9173\n",
      "Epoch 38/200\n",
      "2/2 [==============================] - 0s 34ms/step - loss: 49726.8047 - root_mean_squared_error: 222.9951 - val_loss: 92947.1094 - val_root_mean_squared_error: 304.8723\n",
      "Epoch 39/200\n",
      "2/2 [==============================] - 0s 32ms/step - loss: 49714.4531 - root_mean_squared_error: 222.9674 - val_loss: 92918.5000 - val_root_mean_squared_error: 304.8254\n",
      "Epoch 40/200\n",
      "2/2 [==============================] - 0s 33ms/step - loss: 49701.5625 - root_mean_squared_error: 222.9385 - val_loss: 92888.6016 - val_root_mean_squared_error: 304.7763\n",
      "Epoch 41/200\n",
      "2/2 [==============================] - 0s 39ms/step - loss: 49688.5469 - root_mean_squared_error: 222.9093 - val_loss: 92857.7578 - val_root_mean_squared_error: 304.7257\n",
      "Epoch 42/200\n",
      "2/2 [==============================] - 0s 41ms/step - loss: 49675.2461 - root_mean_squared_error: 222.8794 - val_loss: 92826.7031 - val_root_mean_squared_error: 304.6747\n",
      "Epoch 43/200\n",
      "2/2 [==============================] - 0s 35ms/step - loss: 49661.2227 - root_mean_squared_error: 222.8480 - val_loss: 92795.6016 - val_root_mean_squared_error: 304.6237\n",
      "Epoch 44/200\n",
      "2/2 [==============================] - 0s 37ms/step - loss: 49647.4297 - root_mean_squared_error: 222.8170 - val_loss: 92763.9922 - val_root_mean_squared_error: 304.5718\n",
      "Epoch 45/200\n",
      "2/2 [==============================] - 0s 32ms/step - loss: 49633.4648 - root_mean_squared_error: 222.7857 - val_loss: 92732.0000 - val_root_mean_squared_error: 304.5193\n"
     ]
    },
    {
     "name": "stdout",
     "output_type": "stream",
     "text": [
      "Epoch 46/200\n",
      "2/2 [==============================] - 0s 32ms/step - loss: 49619.0312 - root_mean_squared_error: 222.7533 - val_loss: 92699.9375 - val_root_mean_squared_error: 304.4666\n",
      "Epoch 47/200\n",
      "2/2 [==============================] - 0s 31ms/step - loss: 49605.0820 - root_mean_squared_error: 222.7220 - val_loss: 92668.0000 - val_root_mean_squared_error: 304.4142\n",
      "Epoch 48/200\n",
      "2/2 [==============================] - 0s 29ms/step - loss: 49590.3984 - root_mean_squared_error: 222.6890 - val_loss: 92636.1016 - val_root_mean_squared_error: 304.3618\n",
      "Epoch 49/200\n",
      "2/2 [==============================] - 0s 30ms/step - loss: 49576.1719 - root_mean_squared_error: 222.6571 - val_loss: 92604.0859 - val_root_mean_squared_error: 304.3092\n",
      "Epoch 50/200\n",
      "2/2 [==============================] - 0s 29ms/step - loss: 49561.3359 - root_mean_squared_error: 222.6238 - val_loss: 92572.1641 - val_root_mean_squared_error: 304.2567\n",
      "Epoch 51/200\n",
      "2/2 [==============================] - 0s 29ms/step - loss: 49546.7578 - root_mean_squared_error: 222.5910 - val_loss: 92540.8516 - val_root_mean_squared_error: 304.2053\n",
      "Epoch 52/200\n",
      "2/2 [==============================] - 0s 35ms/step - loss: 49531.5625 - root_mean_squared_error: 222.5569 - val_loss: 92510.2031 - val_root_mean_squared_error: 304.1549\n",
      "Epoch 53/200\n",
      "2/2 [==============================] - 0s 32ms/step - loss: 49516.4805 - root_mean_squared_error: 222.5230 - val_loss: 92479.0547 - val_root_mean_squared_error: 304.1037\n",
      "Epoch 54/200\n",
      "2/2 [==============================] - 0s 32ms/step - loss: 49501.6406 - root_mean_squared_error: 222.4896 - val_loss: 92447.5000 - val_root_mean_squared_error: 304.0518\n",
      "Epoch 55/200\n",
      "2/2 [==============================] - 0s 35ms/step - loss: 49486.1133 - root_mean_squared_error: 222.4548 - val_loss: 92415.5625 - val_root_mean_squared_error: 303.9993\n",
      "Epoch 56/200\n",
      "2/2 [==============================] - 0s 35ms/step - loss: 49470.6523 - root_mean_squared_error: 222.4200 - val_loss: 92382.5469 - val_root_mean_squared_error: 303.9450\n",
      "Epoch 57/200\n",
      "2/2 [==============================] - 0s 35ms/step - loss: 49455.2695 - root_mean_squared_error: 222.3854 - val_loss: 92349.5469 - val_root_mean_squared_error: 303.8907\n",
      "Epoch 58/200\n",
      "2/2 [==============================] - 0s 34ms/step - loss: 49439.7305 - root_mean_squared_error: 222.3505 - val_loss: 92317.8906 - val_root_mean_squared_error: 303.8386\n",
      "Epoch 59/200\n",
      "2/2 [==============================] - 0s 31ms/step - loss: 49423.9531 - root_mean_squared_error: 222.3150 - val_loss: 92287.6328 - val_root_mean_squared_error: 303.7888\n",
      "Epoch 60/200\n",
      "2/2 [==============================] - 0s 32ms/step - loss: 49408.0742 - root_mean_squared_error: 222.2793 - val_loss: 92258.1953 - val_root_mean_squared_error: 303.7403\n",
      "Epoch 61/200\n",
      "2/2 [==============================] - 0s 30ms/step - loss: 49392.6602 - root_mean_squared_error: 222.2446 - val_loss: 92230.0234 - val_root_mean_squared_error: 303.6940\n",
      "Epoch 62/200\n",
      "2/2 [==============================] - 0s 29ms/step - loss: 49376.2578 - root_mean_squared_error: 222.2077 - val_loss: 92201.5781 - val_root_mean_squared_error: 303.6471\n",
      "Epoch 63/200\n",
      "2/2 [==============================] - 0s 31ms/step - loss: 49360.2422 - root_mean_squared_error: 222.1717 - val_loss: 92173.2734 - val_root_mean_squared_error: 303.6005\n",
      "Epoch 64/200\n",
      "2/2 [==============================] - 0s 31ms/step - loss: 49343.1406 - root_mean_squared_error: 222.1332 - val_loss: 92145.0859 - val_root_mean_squared_error: 303.5541\n",
      "Epoch 65/200\n",
      "2/2 [==============================] - 0s 32ms/step - loss: 49326.0859 - root_mean_squared_error: 222.0948 - val_loss: 92116.5625 - val_root_mean_squared_error: 303.5071\n",
      "Epoch 66/200\n",
      "2/2 [==============================] - 0s 34ms/step - loss: 49308.7227 - root_mean_squared_error: 222.0557 - val_loss: 92088.6172 - val_root_mean_squared_error: 303.4611\n",
      "Epoch 67/200\n",
      "2/2 [==============================] - 0s 32ms/step - loss: 49290.9219 - root_mean_squared_error: 222.0156 - val_loss: 92061.1094 - val_root_mean_squared_error: 303.4157\n",
      "Epoch 68/200\n",
      "2/2 [==============================] - 0s 31ms/step - loss: 49273.2031 - root_mean_squared_error: 221.9757 - val_loss: 92032.8906 - val_root_mean_squared_error: 303.3692\n",
      "Epoch 69/200\n",
      "2/2 [==============================] - 0s 31ms/step - loss: 49255.5625 - root_mean_squared_error: 221.9359 - val_loss: 92003.9375 - val_root_mean_squared_error: 303.3215\n",
      "Epoch 70/200\n",
      "2/2 [==============================] - 0s 37ms/step - loss: 49238.0312 - root_mean_squared_error: 221.8965 - val_loss: 91975.4219 - val_root_mean_squared_error: 303.2745\n",
      "Epoch 71/200\n",
      "2/2 [==============================] - 0s 34ms/step - loss: 49220.5781 - root_mean_squared_error: 221.8571 - val_loss: 91946.6094 - val_root_mean_squared_error: 303.2270\n",
      "Epoch 72/200\n",
      "2/2 [==============================] - 0s 36ms/step - loss: 49203.3203 - root_mean_squared_error: 221.8182 - val_loss: 91917.7578 - val_root_mean_squared_error: 303.1794\n",
      "Epoch 73/200\n",
      "2/2 [==============================] - 0s 31ms/step - loss: 49185.8438 - root_mean_squared_error: 221.7788 - val_loss: 91888.2578 - val_root_mean_squared_error: 303.1308\n",
      "Epoch 74/200\n",
      "2/2 [==============================] - 0s 29ms/step - loss: 49168.3125 - root_mean_squared_error: 221.7393 - val_loss: 91857.9141 - val_root_mean_squared_error: 303.0807\n",
      "Epoch 75/200\n",
      "2/2 [==============================] - 0s 30ms/step - loss: 49150.3516 - root_mean_squared_error: 221.6988 - val_loss: 91826.6953 - val_root_mean_squared_error: 303.0292\n",
      "Epoch 76/200\n",
      "2/2 [==============================] - 0s 32ms/step - loss: 49132.2266 - root_mean_squared_error: 221.6579 - val_loss: 91794.4375 - val_root_mean_squared_error: 302.9760\n",
      "Epoch 77/200\n",
      "2/2 [==============================] - 0s 37ms/step - loss: 49114.0391 - root_mean_squared_error: 221.6169 - val_loss: 91761.8984 - val_root_mean_squared_error: 302.9223\n",
      "Epoch 78/200\n",
      "2/2 [==============================] - 0s 31ms/step - loss: 49095.1016 - root_mean_squared_error: 221.5741 - val_loss: 91728.7188 - val_root_mean_squared_error: 302.8675\n",
      "Epoch 79/200\n",
      "2/2 [==============================] - 0s 34ms/step - loss: 49076.1016 - root_mean_squared_error: 221.5313 - val_loss: 91693.3047 - val_root_mean_squared_error: 302.8090\n",
      "Epoch 80/200\n",
      "2/2 [==============================] - 0s 34ms/step - loss: 49056.2578 - root_mean_squared_error: 221.4865 - val_loss: 91655.5234 - val_root_mean_squared_error: 302.7466\n",
      "Epoch 81/200\n",
      "2/2 [==============================] - 0s 31ms/step - loss: 49035.4609 - root_mean_squared_error: 221.4395 - val_loss: 91616.0312 - val_root_mean_squared_error: 302.6814\n",
      "Epoch 82/200\n",
      "2/2 [==============================] - 0s 32ms/step - loss: 49014.2734 - root_mean_squared_error: 221.3917 - val_loss: 91574.8984 - val_root_mean_squared_error: 302.6135\n",
      "Epoch 83/200\n",
      "2/2 [==============================] - 0s 33ms/step - loss: 48991.9492 - root_mean_squared_error: 221.3412 - val_loss: 91532.7812 - val_root_mean_squared_error: 302.5439\n",
      "Epoch 84/200\n",
      "2/2 [==============================] - 0s 31ms/step - loss: 48969.4180 - root_mean_squared_error: 221.2903 - val_loss: 91489.8672 - val_root_mean_squared_error: 302.4729\n",
      "Epoch 85/200\n",
      "2/2 [==============================] - 0s 33ms/step - loss: 48945.3047 - root_mean_squared_error: 221.2359 - val_loss: 91444.7578 - val_root_mean_squared_error: 302.3983\n",
      "Epoch 86/200\n",
      "2/2 [==============================] - 0s 30ms/step - loss: 48920.8125 - root_mean_squared_error: 221.1805 - val_loss: 91396.1719 - val_root_mean_squared_error: 302.3180\n",
      "Epoch 87/200\n",
      "2/2 [==============================] - 0s 32ms/step - loss: 48894.3438 - root_mean_squared_error: 221.1207 - val_loss: 91344.5625 - val_root_mean_squared_error: 302.2326\n",
      "Epoch 88/200\n",
      "2/2 [==============================] - 0s 32ms/step - loss: 48867.5664 - root_mean_squared_error: 221.0601 - val_loss: 91290.6719 - val_root_mean_squared_error: 302.1435\n",
      "Epoch 89/200\n",
      "2/2 [==============================] - 0s 31ms/step - loss: 48839.8750 - root_mean_squared_error: 220.9975 - val_loss: 91237.1016 - val_root_mean_squared_error: 302.0548\n",
      "Epoch 90/200\n",
      "2/2 [==============================] - 0s 30ms/step - loss: 48811.4453 - root_mean_squared_error: 220.9331 - val_loss: 91184.2031 - val_root_mean_squared_error: 301.9672\n"
     ]
    },
    {
     "name": "stdout",
     "output_type": "stream",
     "text": [
      "Epoch 91/200\n",
      "2/2 [==============================] - 0s 44ms/step - loss: 48782.3828 - root_mean_squared_error: 220.8673 - val_loss: 91130.8750 - val_root_mean_squared_error: 301.8789\n",
      "Epoch 92/200\n",
      "2/2 [==============================] - 0s 31ms/step - loss: 48753.1914 - root_mean_squared_error: 220.8012 - val_loss: 91075.3281 - val_root_mean_squared_error: 301.7869\n",
      "Epoch 93/200\n",
      "2/2 [==============================] - 0s 29ms/step - loss: 48723.4219 - root_mean_squared_error: 220.7338 - val_loss: 91018.5234 - val_root_mean_squared_error: 301.6927\n",
      "Epoch 94/200\n",
      "2/2 [==============================] - 0s 30ms/step - loss: 48692.2031 - root_mean_squared_error: 220.6631 - val_loss: 90962.5078 - val_root_mean_squared_error: 301.5999\n",
      "Epoch 95/200\n",
      "2/2 [==============================] - 0s 29ms/step - loss: 48661.3828 - root_mean_squared_error: 220.5932 - val_loss: 90906.3359 - val_root_mean_squared_error: 301.5068\n",
      "Epoch 96/200\n",
      "2/2 [==============================] - 0s 28ms/step - loss: 48630.6953 - root_mean_squared_error: 220.5237 - val_loss: 90848.7031 - val_root_mean_squared_error: 301.4112\n",
      "Epoch 97/200\n",
      "2/2 [==============================] - 0s 29ms/step - loss: 48599.3320 - root_mean_squared_error: 220.4526 - val_loss: 90789.2109 - val_root_mean_squared_error: 301.3125\n",
      "Epoch 98/200\n",
      "2/2 [==============================] - 0s 32ms/step - loss: 48568.0039 - root_mean_squared_error: 220.3815 - val_loss: 90728.5781 - val_root_mean_squared_error: 301.2118\n",
      "Epoch 99/200\n",
      "2/2 [==============================] - 0s 28ms/step - loss: 48536.3594 - root_mean_squared_error: 220.3097 - val_loss: 90668.3125 - val_root_mean_squared_error: 301.1118\n",
      "Epoch 100/200\n",
      "2/2 [==============================] - 0s 32ms/step - loss: 48504.2344 - root_mean_squared_error: 220.2368 - val_loss: 90608.0469 - val_root_mean_squared_error: 301.0117\n",
      "Epoch 101/200\n",
      "2/2 [==============================] - 0s 29ms/step - loss: 48471.9648 - root_mean_squared_error: 220.1635 - val_loss: 90546.9375 - val_root_mean_squared_error: 300.9102\n",
      "Epoch 102/200\n",
      "2/2 [==============================] - 0s 31ms/step - loss: 48439.4336 - root_mean_squared_error: 220.0896 - val_loss: 90484.0547 - val_root_mean_squared_error: 300.8057\n",
      "Epoch 103/200\n",
      "2/2 [==============================] - 0s 30ms/step - loss: 48406.1836 - root_mean_squared_error: 220.0141 - val_loss: 90413.9375 - val_root_mean_squared_error: 300.6891\n",
      "Epoch 104/200\n",
      "2/2 [==============================] - 0s 29ms/step - loss: 48370.6641 - root_mean_squared_error: 219.9333 - val_loss: 90331.5859 - val_root_mean_squared_error: 300.5521\n",
      "Epoch 105/200\n",
      "2/2 [==============================] - 0s 30ms/step - loss: 48331.2500 - root_mean_squared_error: 219.8437 - val_loss: 90245.6328 - val_root_mean_squared_error: 300.4091\n",
      "Epoch 106/200\n",
      "2/2 [==============================] - 0s 33ms/step - loss: 48291.0625 - root_mean_squared_error: 219.7523 - val_loss: 90158.2188 - val_root_mean_squared_error: 300.2636\n",
      "Epoch 107/200\n",
      "2/2 [==============================] - 0s 29ms/step - loss: 48249.3242 - root_mean_squared_error: 219.6573 - val_loss: 90069.8125 - val_root_mean_squared_error: 300.1163\n",
      "Epoch 108/200\n",
      "2/2 [==============================] - 0s 30ms/step - loss: 48206.0234 - root_mean_squared_error: 219.5587 - val_loss: 89979.8125 - val_root_mean_squared_error: 299.9663\n",
      "Epoch 109/200\n",
      "2/2 [==============================] - 0s 31ms/step - loss: 48163.3711 - root_mean_squared_error: 219.4615 - val_loss: 89888.0234 - val_root_mean_squared_error: 299.8133\n",
      "Epoch 110/200\n",
      "2/2 [==============================] - 0s 32ms/step - loss: 48119.9023 - root_mean_squared_error: 219.3625 - val_loss: 89796.9766 - val_root_mean_squared_error: 299.6614\n",
      "Epoch 111/200\n",
      "2/2 [==============================] - 0s 32ms/step - loss: 48075.9609 - root_mean_squared_error: 219.2623 - val_loss: 89707.9531 - val_root_mean_squared_error: 299.5128\n",
      "Epoch 112/200\n",
      "2/2 [==============================] - 0s 34ms/step - loss: 48030.5312 - root_mean_squared_error: 219.1587 - val_loss: 89619.0000 - val_root_mean_squared_error: 299.3643\n",
      "Epoch 113/200\n",
      "2/2 [==============================] - 0s 32ms/step - loss: 47986.9141 - root_mean_squared_error: 219.0592 - val_loss: 89529.1562 - val_root_mean_squared_error: 299.2142\n",
      "Epoch 114/200\n",
      "2/2 [==============================] - 0s 33ms/step - loss: 47941.0781 - root_mean_squared_error: 218.9545 - val_loss: 89439.7188 - val_root_mean_squared_error: 299.0647\n",
      "Epoch 115/200\n",
      "2/2 [==============================] - 0s 34ms/step - loss: 47895.2578 - root_mean_squared_error: 218.8498 - val_loss: 89349.6875 - val_root_mean_squared_error: 298.9142\n",
      "Epoch 116/200\n",
      "2/2 [==============================] - 0s 33ms/step - loss: 47848.5898 - root_mean_squared_error: 218.7432 - val_loss: 89258.7422 - val_root_mean_squared_error: 298.7620\n",
      "Epoch 117/200\n",
      "2/2 [==============================] - 0s 31ms/step - loss: 47801.8594 - root_mean_squared_error: 218.6364 - val_loss: 89167.2422 - val_root_mean_squared_error: 298.6089\n",
      "Epoch 118/200\n",
      "2/2 [==============================] - 0s 30ms/step - loss: 47753.5469 - root_mean_squared_error: 218.5258 - val_loss: 89075.5391 - val_root_mean_squared_error: 298.4553\n",
      "Epoch 119/200\n",
      "2/2 [==============================] - 0s 34ms/step - loss: 47704.2930 - root_mean_squared_error: 218.4131 - val_loss: 88981.6172 - val_root_mean_squared_error: 298.2979\n",
      "Epoch 120/200\n",
      "2/2 [==============================] - 0s 32ms/step - loss: 47654.8906 - root_mean_squared_error: 218.3000 - val_loss: 88884.7891 - val_root_mean_squared_error: 298.1355\n",
      "Epoch 121/200\n",
      "2/2 [==============================] - 0s 30ms/step - loss: 47604.0469 - root_mean_squared_error: 218.1835 - val_loss: 88786.8281 - val_root_mean_squared_error: 297.9712\n",
      "Epoch 122/200\n",
      "2/2 [==============================] - 0s 30ms/step - loss: 47551.7109 - root_mean_squared_error: 218.0635 - val_loss: 88687.8438 - val_root_mean_squared_error: 297.8051\n",
      "Epoch 123/200\n",
      "2/2 [==============================] - 0s 32ms/step - loss: 47499.5508 - root_mean_squared_error: 217.9439 - val_loss: 88588.2969 - val_root_mean_squared_error: 297.6378\n",
      "Epoch 124/200\n",
      "2/2 [==============================] - 0s 31ms/step - loss: 47445.7422 - root_mean_squared_error: 217.8204 - val_loss: 88488.8125 - val_root_mean_squared_error: 297.4707\n",
      "Epoch 125/200\n",
      "2/2 [==============================] - 0s 32ms/step - loss: 47391.4844 - root_mean_squared_error: 217.6958 - val_loss: 88387.4922 - val_root_mean_squared_error: 297.3004\n",
      "Epoch 126/200\n",
      "2/2 [==============================] - 0s 32ms/step - loss: 47337.2461 - root_mean_squared_error: 217.5713 - val_loss: 88284.9219 - val_root_mean_squared_error: 297.1278\n",
      "Epoch 127/200\n",
      "2/2 [==============================] - 0s 32ms/step - loss: 47280.7891 - root_mean_squared_error: 217.4415 - val_loss: 88181.6250 - val_root_mean_squared_error: 296.9539\n",
      "Epoch 128/200\n",
      "2/2 [==============================] - 0s 33ms/step - loss: 47224.0234 - root_mean_squared_error: 217.3109 - val_loss: 88076.2266 - val_root_mean_squared_error: 296.7764\n",
      "Epoch 129/200\n",
      "2/2 [==============================] - 0s 33ms/step - loss: 47166.2969 - root_mean_squared_error: 217.1780 - val_loss: 87968.6328 - val_root_mean_squared_error: 296.5951\n",
      "Epoch 130/200\n",
      "2/2 [==============================] - 0s 32ms/step - loss: 47106.9180 - root_mean_squared_error: 217.0413 - val_loss: 87858.3594 - val_root_mean_squared_error: 296.4091\n",
      "Epoch 131/200\n",
      "2/2 [==============================] - 0s 32ms/step - loss: 47046.0469 - root_mean_squared_error: 216.9010 - val_loss: 87743.8672 - val_root_mean_squared_error: 296.2159\n",
      "Epoch 132/200\n",
      "2/2 [==============================] - 0s 35ms/step - loss: 46984.8047 - root_mean_squared_error: 216.7598 - val_loss: 87626.3750 - val_root_mean_squared_error: 296.0175\n",
      "Epoch 133/200\n",
      "2/2 [==============================] - 0s 31ms/step - loss: 46919.1328 - root_mean_squared_error: 216.6082 - val_loss: 87504.3516 - val_root_mean_squared_error: 295.8113\n",
      "Epoch 134/200\n",
      "2/2 [==============================] - 0s 33ms/step - loss: 46854.8750 - root_mean_squared_error: 216.4599 - val_loss: 87374.2031 - val_root_mean_squared_error: 295.5913\n",
      "Epoch 135/200\n"
     ]
    },
    {
     "name": "stdout",
     "output_type": "stream",
     "text": [
      "2/2 [==============================] - 0s 30ms/step - loss: 46786.1523 - root_mean_squared_error: 216.3011 - val_loss: 87234.1484 - val_root_mean_squared_error: 295.3543\n",
      "Epoch 136/200\n",
      "2/2 [==============================] - 0s 33ms/step - loss: 46712.1094 - root_mean_squared_error: 216.1298 - val_loss: 87073.2188 - val_root_mean_squared_error: 295.0817\n",
      "Epoch 137/200\n",
      "2/2 [==============================] - 0s 30ms/step - loss: 46627.9023 - root_mean_squared_error: 215.9349 - val_loss: 86893.8984 - val_root_mean_squared_error: 294.7777\n",
      "Epoch 138/200\n",
      "2/2 [==============================] - 0s 32ms/step - loss: 46528.1016 - root_mean_squared_error: 215.7037 - val_loss: 86695.3125 - val_root_mean_squared_error: 294.4407\n",
      "Epoch 139/200\n",
      "2/2 [==============================] - 0s 30ms/step - loss: 46424.6562 - root_mean_squared_error: 215.4638 - val_loss: 86484.8672 - val_root_mean_squared_error: 294.0831\n",
      "Epoch 140/200\n",
      "2/2 [==============================] - 0s 34ms/step - loss: 46314.3828 - root_mean_squared_error: 215.2078 - val_loss: 86270.5859 - val_root_mean_squared_error: 293.7186\n",
      "Epoch 141/200\n",
      "2/2 [==============================] - 0s 34ms/step - loss: 46199.0078 - root_mean_squared_error: 214.9395 - val_loss: 86048.8516 - val_root_mean_squared_error: 293.3409\n",
      "Epoch 142/200\n",
      "2/2 [==============================] - 0s 33ms/step - loss: 46074.3203 - root_mean_squared_error: 214.6493 - val_loss: 85822.2500 - val_root_mean_squared_error: 292.9543\n",
      "Epoch 143/200\n",
      "2/2 [==============================] - 0s 33ms/step - loss: 45948.6602 - root_mean_squared_error: 214.3564 - val_loss: 85590.6016 - val_root_mean_squared_error: 292.5587\n",
      "Epoch 144/200\n",
      "2/2 [==============================] - 0s 30ms/step - loss: 45817.1914 - root_mean_squared_error: 214.0495 - val_loss: 85353.5312 - val_root_mean_squared_error: 292.1533\n",
      "Epoch 145/200\n",
      "2/2 [==============================] - 0s 29ms/step - loss: 45685.4180 - root_mean_squared_error: 213.7415 - val_loss: 85111.5234 - val_root_mean_squared_error: 291.7388\n",
      "Epoch 146/200\n",
      "2/2 [==============================] - 0s 30ms/step - loss: 45546.4727 - root_mean_squared_error: 213.4162 - val_loss: 84866.2109 - val_root_mean_squared_error: 291.3181\n",
      "Epoch 147/200\n",
      "2/2 [==============================] - 0s 30ms/step - loss: 45410.6250 - root_mean_squared_error: 213.0977 - val_loss: 84616.5469 - val_root_mean_squared_error: 290.8892\n",
      "Epoch 148/200\n",
      "2/2 [==============================] - 0s 31ms/step - loss: 45271.7617 - root_mean_squared_error: 212.7716 - val_loss: 84360.3906 - val_root_mean_squared_error: 290.4486\n",
      "Epoch 149/200\n",
      "2/2 [==============================] - 0s 32ms/step - loss: 45120.7070 - root_mean_squared_error: 212.4164 - val_loss: 84088.3594 - val_root_mean_squared_error: 289.9799\n",
      "Epoch 150/200\n",
      "2/2 [==============================] - 0s 34ms/step - loss: 44965.4648 - root_mean_squared_error: 212.0506 - val_loss: 83794.0234 - val_root_mean_squared_error: 289.4720\n",
      "Epoch 151/200\n",
      "2/2 [==============================] - 0s 35ms/step - loss: 44797.0469 - root_mean_squared_error: 211.6531 - val_loss: 83478.3359 - val_root_mean_squared_error: 288.9262\n",
      "Epoch 152/200\n",
      "2/2 [==============================] - 0s 32ms/step - loss: 44623.2109 - root_mean_squared_error: 211.2421 - val_loss: 83143.7969 - val_root_mean_squared_error: 288.3466\n",
      "Epoch 153/200\n",
      "2/2 [==============================] - 0s 32ms/step - loss: 44447.3633 - root_mean_squared_error: 210.8254 - val_loss: 82800.7734 - val_root_mean_squared_error: 287.7512\n",
      "Epoch 154/200\n",
      "2/2 [==============================] - 0s 33ms/step - loss: 44267.9922 - root_mean_squared_error: 210.3996 - val_loss: 82459.1250 - val_root_mean_squared_error: 287.1570\n",
      "Epoch 155/200\n",
      "2/2 [==============================] - 0s 36ms/step - loss: 44091.5781 - root_mean_squared_error: 209.9799 - val_loss: 82120.3594 - val_root_mean_squared_error: 286.5665\n",
      "Epoch 156/200\n",
      "2/2 [==============================] - 0s 35ms/step - loss: 43914.2930 - root_mean_squared_error: 209.5574 - val_loss: 81786.0000 - val_root_mean_squared_error: 285.9825\n",
      "Epoch 157/200\n",
      "2/2 [==============================] - 0s 33ms/step - loss: 43731.2500 - root_mean_squared_error: 209.1202 - val_loss: 81453.5625 - val_root_mean_squared_error: 285.4007\n",
      "Epoch 158/200\n",
      "2/2 [==============================] - 0s 34ms/step - loss: 43550.0273 - root_mean_squared_error: 208.6864 - val_loss: 81125.7656 - val_root_mean_squared_error: 284.8259\n",
      "Epoch 159/200\n",
      "2/2 [==============================] - 0s 34ms/step - loss: 43365.2930 - root_mean_squared_error: 208.2433 - val_loss: 80798.2422 - val_root_mean_squared_error: 284.2503\n",
      "Epoch 160/200\n",
      "2/2 [==============================] - 0s 33ms/step - loss: 43179.5547 - root_mean_squared_error: 207.7969 - val_loss: 80463.5469 - val_root_mean_squared_error: 283.6610\n",
      "Epoch 161/200\n",
      "2/2 [==============================] - 0s 32ms/step - loss: 42991.6250 - root_mean_squared_error: 207.3442 - val_loss: 80119.9922 - val_root_mean_squared_error: 283.0547\n",
      "Epoch 162/200\n",
      "2/2 [==============================] - 0s 33ms/step - loss: 42796.1094 - root_mean_squared_error: 206.8722 - val_loss: 79767.6641 - val_root_mean_squared_error: 282.4317\n",
      "Epoch 163/200\n",
      "2/2 [==============================] - 0s 33ms/step - loss: 42596.7969 - root_mean_squared_error: 206.3899 - val_loss: 79404.8984 - val_root_mean_squared_error: 281.7888\n",
      "Epoch 164/200\n",
      "2/2 [==============================] - 0s 32ms/step - loss: 42391.2734 - root_mean_squared_error: 205.8914 - val_loss: 79030.7266 - val_root_mean_squared_error: 281.1240\n",
      "Epoch 165/200\n",
      "2/2 [==============================] - 0s 31ms/step - loss: 42181.7383 - root_mean_squared_error: 205.3819 - val_loss: 78647.3984 - val_root_mean_squared_error: 280.4414\n",
      "Epoch 166/200\n",
      "2/2 [==============================] - 0s 30ms/step - loss: 41962.1094 - root_mean_squared_error: 204.8466 - val_loss: 78252.6797 - val_root_mean_squared_error: 279.7368\n",
      "Epoch 167/200\n",
      "2/2 [==============================] - 0s 32ms/step - loss: 41737.0156 - root_mean_squared_error: 204.2964 - val_loss: 77842.8516 - val_root_mean_squared_error: 279.0033\n",
      "Epoch 168/200\n",
      "2/2 [==============================] - 0s 32ms/step - loss: 41498.2891 - root_mean_squared_error: 203.7113 - val_loss: 77414.7578 - val_root_mean_squared_error: 278.2351\n",
      "Epoch 169/200\n",
      "2/2 [==============================] - 0s 31ms/step - loss: 41243.7383 - root_mean_squared_error: 203.0856 - val_loss: 76960.5547 - val_root_mean_squared_error: 277.4177\n",
      "Epoch 170/200\n",
      "2/2 [==============================] - 0s 31ms/step - loss: 40958.8672 - root_mean_squared_error: 202.3830 - val_loss: 76452.8906 - val_root_mean_squared_error: 276.5012\n",
      "Epoch 171/200\n",
      "2/2 [==============================] - 0s 33ms/step - loss: 40642.5039 - root_mean_squared_error: 201.5999 - val_loss: 75872.0078 - val_root_mean_squared_error: 275.4487\n",
      "Epoch 172/200\n",
      "2/2 [==============================] - 0s 31ms/step - loss: 40281.7891 - root_mean_squared_error: 200.7032 - val_loss: 75172.7031 - val_root_mean_squared_error: 274.1764\n",
      "Epoch 173/200\n",
      "2/2 [==============================] - 0s 31ms/step - loss: 39891.0156 - root_mean_squared_error: 199.7274 - val_loss: 74320.9453 - val_root_mean_squared_error: 272.6187\n",
      "Epoch 174/200\n",
      "2/2 [==============================] - 0s 32ms/step - loss: 39453.8477 - root_mean_squared_error: 198.6299 - val_loss: 73333.6875 - val_root_mean_squared_error: 270.8019\n",
      "Epoch 175/200\n",
      "2/2 [==============================] - 0s 30ms/step - loss: 39017.3359 - root_mean_squared_error: 197.5281 - val_loss: 72335.9766 - val_root_mean_squared_error: 268.9535\n",
      "Epoch 176/200\n",
      "2/2 [==============================] - 0s 31ms/step - loss: 38588.6914 - root_mean_squared_error: 196.4400 - val_loss: 71452.0859 - val_root_mean_squared_error: 267.3052\n",
      "Epoch 177/200\n",
      "2/2 [==============================] - 0s 33ms/step - loss: 38199.5273 - root_mean_squared_error: 195.4470 - val_loss: 70734.2578 - val_root_mean_squared_error: 265.9591\n",
      "Epoch 178/200\n",
      "2/2 [==============================] - 0s 32ms/step - loss: 37840.1328 - root_mean_squared_error: 194.5254 - val_loss: 70103.6328 - val_root_mean_squared_error: 264.7709\n",
      "Epoch 179/200\n"
     ]
    },
    {
     "name": "stdout",
     "output_type": "stream",
     "text": [
      "2/2 [==============================] - 0s 32ms/step - loss: 37504.4922 - root_mean_squared_error: 193.6608 - val_loss: 69502.1016 - val_root_mean_squared_error: 263.6325\n",
      "Epoch 180/200\n",
      "2/2 [==============================] - 0s 32ms/step - loss: 37191.4570 - root_mean_squared_error: 192.8509 - val_loss: 68911.2500 - val_root_mean_squared_error: 262.5095\n",
      "Epoch 181/200\n",
      "2/2 [==============================] - 0s 32ms/step - loss: 36877.9648 - root_mean_squared_error: 192.0364 - val_loss: 68322.5781 - val_root_mean_squared_error: 261.3859\n",
      "Epoch 182/200\n",
      "2/2 [==============================] - 0s 31ms/step - loss: 36564.1328 - root_mean_squared_error: 191.2175 - val_loss: 67718.8203 - val_root_mean_squared_error: 260.2284\n",
      "Epoch 183/200\n",
      "2/2 [==============================] - 0s 31ms/step - loss: 36250.3711 - root_mean_squared_error: 190.3953 - val_loss: 67084.9453 - val_root_mean_squared_error: 259.0076\n",
      "Epoch 184/200\n",
      "2/2 [==============================] - 0s 34ms/step - loss: 35924.2383 - root_mean_squared_error: 189.5369 - val_loss: 66413.7266 - val_root_mean_squared_error: 257.7086\n",
      "Epoch 185/200\n",
      "2/2 [==============================] - 0s 29ms/step - loss: 35583.8242 - root_mean_squared_error: 188.6367 - val_loss: 65700.8750 - val_root_mean_squared_error: 256.3218\n",
      "Epoch 186/200\n",
      "2/2 [==============================] - 0s 31ms/step - loss: 35244.2461 - root_mean_squared_error: 187.7345 - val_loss: 64985.5312 - val_root_mean_squared_error: 254.9226\n",
      "Epoch 187/200\n",
      "2/2 [==============================] - 0s 29ms/step - loss: 34876.7578 - root_mean_squared_error: 186.7532 - val_loss: 64290.6289 - val_root_mean_squared_error: 253.5560\n",
      "Epoch 188/200\n",
      "2/2 [==============================] - 0s 28ms/step - loss: 34527.7969 - root_mean_squared_error: 185.8166 - val_loss: 63615.2617 - val_root_mean_squared_error: 252.2207\n",
      "Epoch 189/200\n",
      "2/2 [==============================] - 0s 31ms/step - loss: 34169.6133 - root_mean_squared_error: 184.8502 - val_loss: 62960.3789 - val_root_mean_squared_error: 250.9191\n",
      "Epoch 190/200\n",
      "2/2 [==============================] - 0s 29ms/step - loss: 33830.5430 - root_mean_squared_error: 183.9308 - val_loss: 62320.8359 - val_root_mean_squared_error: 249.6414\n",
      "Epoch 191/200\n",
      "2/2 [==============================] - 0s 30ms/step - loss: 33480.1406 - root_mean_squared_error: 182.9758 - val_loss: 61686.8359 - val_root_mean_squared_error: 248.3684\n",
      "Epoch 192/200\n",
      "2/2 [==============================] - 0s 27ms/step - loss: 33150.5000 - root_mean_squared_error: 182.0728 - val_loss: 61045.5117 - val_root_mean_squared_error: 247.0739\n",
      "Epoch 193/200\n",
      "2/2 [==============================] - 0s 29ms/step - loss: 32820.8906 - root_mean_squared_error: 181.1654 - val_loss: 60415.7539 - val_root_mean_squared_error: 245.7962\n",
      "Epoch 194/200\n",
      "2/2 [==============================] - 0s 29ms/step - loss: 32483.7637 - root_mean_squared_error: 180.2325 - val_loss: 59798.2617 - val_root_mean_squared_error: 244.5368\n",
      "Epoch 195/200\n",
      "2/2 [==============================] - 0s 30ms/step - loss: 32166.6016 - root_mean_squared_error: 179.3505 - val_loss: 59180.2266 - val_root_mean_squared_error: 243.2699\n",
      "Epoch 196/200\n",
      "2/2 [==============================] - 0s 30ms/step - loss: 31847.4590 - root_mean_squared_error: 178.4586 - val_loss: 58569.9258 - val_root_mean_squared_error: 242.0122\n",
      "Epoch 197/200\n",
      "2/2 [==============================] - 0s 28ms/step - loss: 31534.0547 - root_mean_squared_error: 177.5783 - val_loss: 57979.4609 - val_root_mean_squared_error: 240.7892\n",
      "Epoch 198/200\n",
      "2/2 [==============================] - 0s 29ms/step - loss: 31222.5801 - root_mean_squared_error: 176.6991 - val_loss: 57405.5273 - val_root_mean_squared_error: 239.5945\n",
      "Epoch 199/200\n",
      "2/2 [==============================] - 0s 29ms/step - loss: 30924.5840 - root_mean_squared_error: 175.8539 - val_loss: 56838.7266 - val_root_mean_squared_error: 238.4088\n",
      "Epoch 200/200\n",
      "2/2 [==============================] - 0s 30ms/step - loss: 30623.4863 - root_mean_squared_error: 174.9957 - val_loss: 56277.0664 - val_root_mean_squared_error: 237.2279\n"
     ]
    }
   ],
   "source": [
    "TSLA_hist = TSLA_Model.fit(TSLA_Train_X, TSLA_Train_Y, epochs = 200, validation_data = (TSLA_Test_X, TSLA_Test_Y), callbacks=[callback])"
   ]
  },
  {
   "cell_type": "code",
   "execution_count": 60,
   "metadata": {
    "pycharm": {
     "name": "#%%\n"
    }
   },
   "outputs": [],
   "source": [
    "history_dict = TSLA_hist.history\n",
    "\n",
    "loss = history_dict[\"loss\"]\n",
    "root_mean_squared_error = history_dict[\"root_mean_squared_error\"]\n",
    "val_loss = history_dict[\"val_loss\"]\n",
    "val_root_mean_squared_error = history_dict[\"val_root_mean_squared_error\"]\n",
    "\n",
    "epochs = range(1, len(loss) + 1)"
   ]
  },
  {
   "cell_type": "code",
   "execution_count": 61,
   "metadata": {
    "pycharm": {
     "name": "#%%\n"
    }
   },
   "outputs": [
    {
     "data": {
      "image/png": "[encoded data removed]",
      "text/plain": [
       "<Figure size 1080x360 with 2 Axes>"
      ]
     },
     "metadata": {
      "needs_background": "light"
     },
     "output_type": "display_data"
    }
   ],
   "source": [
    "fig, (ax1, ax2) = plt.subplots(1, 2)\n",
    "\n",
    "fig.set_figheight(5)\n",
    "fig.set_figwidth(15)\n",
    "\n",
    "ax1.plot(epochs, loss, label = \"Training Loss\")\n",
    "ax1.plot(epochs, val_loss, label = \"Validation Loss\")\n",
    "ax1.set(xlabel = \"Epochs\", ylabel = \"Loss\")\n",
    "ax1.legend()\n",
    "\n",
    "ax2.plot(epochs, root_mean_squared_error, label = \"Training Root Mean Squared Error\")\n",
    "ax2.plot(epochs, val_root_mean_squared_error, label = \"Validation Root Mean Squared Error\")\n",
    "ax2.set(xlabel = \"Epochs\", ylabel = \"Loss\")\n",
    "ax2.legend()\n",
    "\n",
    "plt.show()"
   ]
  },
  {
   "cell_type": "markdown",
   "metadata": {},
   "source": [
    "### Predicting the closing stock price of Tesla"
   ]
  },
  {
   "cell_type": "code",
   "execution_count": 62,
   "metadata": {
    "pycharm": {
     "name": "#%%\n"
    }
   },
   "outputs": [],
   "source": [
    "TSLA_prediction = TSLA_Model.predict(TSLA_Test_X)"
   ]
  },
  {
   "cell_type": "code",
   "execution_count": 63,
   "metadata": {
    "pycharm": {
     "name": "#%%\n"
    }
   },
   "outputs": [
    {
     "ename": "ValueError",
     "evalue": "x and y must have same first dimension, but have shapes (9,) and (230,)",
     "output_type": "error",
     "traceback": [
      "\u001b[0;31m---------------------------------------------------------------------------\u001b[0m",
      "\u001b[0;31mValueError\u001b[0m                                Traceback (most recent call last)",
      "\u001b[0;32m<ipython-input-63-48e4b34cd76a>\u001b[0m in \u001b[0;36m<module>\u001b[0;34m\u001b[0m\n\u001b[1;32m      2\u001b[0m \u001b[0mplt\u001b[0m\u001b[0;34m.\u001b[0m\u001b[0mplot\u001b[0m\u001b[0;34m(\u001b[0m\u001b[0mTSLA\u001b[0m\u001b[0;34m[\u001b[0m\u001b[0;34m'Date'\u001b[0m\u001b[0;34m]\u001b[0m\u001b[0;34m[\u001b[0m\u001b[0mTSLA\u001b[0m\u001b[0;34m[\u001b[0m\u001b[0;34m'Date'\u001b[0m\u001b[0;34m]\u001b[0m \u001b[0;34m<\u001b[0m \u001b[0;34m'2021-08-31'\u001b[0m\u001b[0;34m]\u001b[0m\u001b[0;34m,\u001b[0m \u001b[0mTSLA\u001b[0m\u001b[0;34m[\u001b[0m\u001b[0;34m'Adj Close'\u001b[0m\u001b[0;34m]\u001b[0m\u001b[0;34m[\u001b[0m\u001b[0mTSLA\u001b[0m\u001b[0;34m[\u001b[0m\u001b[0;34m'Date'\u001b[0m\u001b[0;34m]\u001b[0m \u001b[0;34m<\u001b[0m \u001b[0;34m'2021-08-31'\u001b[0m\u001b[0;34m]\u001b[0m\u001b[0;34m,\u001b[0m \u001b[0mlabel\u001b[0m \u001b[0;34m=\u001b[0m \u001b[0;34m'Training'\u001b[0m\u001b[0;34m)\u001b[0m\u001b[0;34m\u001b[0m\u001b[0;34m\u001b[0m\u001b[0m\n\u001b[1;32m      3\u001b[0m \u001b[0mplt\u001b[0m\u001b[0;34m.\u001b[0m\u001b[0mplot\u001b[0m\u001b[0;34m(\u001b[0m\u001b[0mTSLA\u001b[0m\u001b[0;34m[\u001b[0m\u001b[0;34m'Date'\u001b[0m\u001b[0;34m]\u001b[0m\u001b[0;34m[\u001b[0m\u001b[0mTSLA\u001b[0m\u001b[0;34m[\u001b[0m\u001b[0;34m'Date'\u001b[0m\u001b[0;34m]\u001b[0m \u001b[0;34m>=\u001b[0m \u001b[0;34m'2021-08-23'\u001b[0m\u001b[0;34m]\u001b[0m\u001b[0;34m,\u001b[0m \u001b[0mTSLA\u001b[0m\u001b[0;34m[\u001b[0m\u001b[0;34m'Adj Close'\u001b[0m\u001b[0;34m]\u001b[0m\u001b[0;34m[\u001b[0m\u001b[0mTSLA\u001b[0m\u001b[0;34m[\u001b[0m\u001b[0;34m'Date'\u001b[0m\u001b[0;34m]\u001b[0m \u001b[0;34m>=\u001b[0m \u001b[0;34m'2021-08-23'\u001b[0m\u001b[0;34m]\u001b[0m\u001b[0;34m,\u001b[0m \u001b[0mlabel\u001b[0m \u001b[0;34m=\u001b[0m \u001b[0;34m'Testing'\u001b[0m\u001b[0;34m)\u001b[0m\u001b[0;34m\u001b[0m\u001b[0;34m\u001b[0m\u001b[0m\n\u001b[0;32m----> 4\u001b[0;31m \u001b[0mplt\u001b[0m\u001b[0;34m.\u001b[0m\u001b[0mplot\u001b[0m\u001b[0;34m(\u001b[0m\u001b[0mTSLA\u001b[0m\u001b[0;34m[\u001b[0m\u001b[0;34m'Date'\u001b[0m\u001b[0;34m]\u001b[0m\u001b[0;34m[\u001b[0m\u001b[0mTSLA\u001b[0m\u001b[0;34m[\u001b[0m\u001b[0;34m'Date'\u001b[0m\u001b[0;34m]\u001b[0m \u001b[0;34m>=\u001b[0m \u001b[0;34m'2021-08-31'\u001b[0m\u001b[0;34m]\u001b[0m\u001b[0;34m,\u001b[0m \u001b[0mTSLA_prediction\u001b[0m\u001b[0;34m.\u001b[0m\u001b[0mreshape\u001b[0m\u001b[0;34m(\u001b[0m\u001b[0;34m-\u001b[0m\u001b[0;36m1\u001b[0m\u001b[0;34m)\u001b[0m\u001b[0;34m,\u001b[0m \u001b[0mlabel\u001b[0m \u001b[0;34m=\u001b[0m \u001b[0;34m'Predictions'\u001b[0m\u001b[0;34m)\u001b[0m\u001b[0;34m\u001b[0m\u001b[0;34m\u001b[0m\u001b[0m\n\u001b[0m\u001b[1;32m      5\u001b[0m \u001b[0mplt\u001b[0m\u001b[0;34m.\u001b[0m\u001b[0mxlabel\u001b[0m\u001b[0;34m(\u001b[0m\u001b[0;34m'Time'\u001b[0m\u001b[0;34m)\u001b[0m\u001b[0;34m\u001b[0m\u001b[0;34m\u001b[0m\u001b[0m\n\u001b[1;32m      6\u001b[0m \u001b[0mplt\u001b[0m\u001b[0;34m.\u001b[0m\u001b[0mylabel\u001b[0m\u001b[0;34m(\u001b[0m\u001b[0;34m'Closing Price'\u001b[0m\u001b[0;34m)\u001b[0m\u001b[0;34m\u001b[0m\u001b[0;34m\u001b[0m\u001b[0m\n",
      "\u001b[0;32m~/opt/anaconda3/lib/python3.8/site-packages/matplotlib/pyplot.py\u001b[0m in \u001b[0;36mplot\u001b[0;34m(scalex, scaley, data, *args, **kwargs)\u001b[0m\n\u001b[1;32m   2838\u001b[0m \u001b[0;34m@\u001b[0m\u001b[0m_copy_docstring_and_deprecators\u001b[0m\u001b[0;34m(\u001b[0m\u001b[0mAxes\u001b[0m\u001b[0;34m.\u001b[0m\u001b[0mplot\u001b[0m\u001b[0;34m)\u001b[0m\u001b[0;34m\u001b[0m\u001b[0;34m\u001b[0m\u001b[0m\n\u001b[1;32m   2839\u001b[0m \u001b[0;32mdef\u001b[0m \u001b[0mplot\u001b[0m\u001b[0;34m(\u001b[0m\u001b[0;34m*\u001b[0m\u001b[0margs\u001b[0m\u001b[0;34m,\u001b[0m \u001b[0mscalex\u001b[0m\u001b[0;34m=\u001b[0m\u001b[0;32mTrue\u001b[0m\u001b[0;34m,\u001b[0m \u001b[0mscaley\u001b[0m\u001b[0;34m=\u001b[0m\u001b[0;32mTrue\u001b[0m\u001b[0;34m,\u001b[0m \u001b[0mdata\u001b[0m\u001b[0;34m=\u001b[0m\u001b[0;32mNone\u001b[0m\u001b[0;34m,\u001b[0m \u001b[0;34m**\u001b[0m\u001b[0mkwargs\u001b[0m\u001b[0;34m)\u001b[0m\u001b[0;34m:\u001b[0m\u001b[0;34m\u001b[0m\u001b[0;34m\u001b[0m\u001b[0m\n\u001b[0;32m-> 2840\u001b[0;31m     return gca().plot(\n\u001b[0m\u001b[1;32m   2841\u001b[0m         \u001b[0;34m*\u001b[0m\u001b[0margs\u001b[0m\u001b[0;34m,\u001b[0m \u001b[0mscalex\u001b[0m\u001b[0;34m=\u001b[0m\u001b[0mscalex\u001b[0m\u001b[0;34m,\u001b[0m \u001b[0mscaley\u001b[0m\u001b[0;34m=\u001b[0m\u001b[0mscaley\u001b[0m\u001b[0;34m,\u001b[0m\u001b[0;34m\u001b[0m\u001b[0;34m\u001b[0m\u001b[0m\n\u001b[1;32m   2842\u001b[0m         **({\"data\": data} if data is not None else {}), **kwargs)\n",
      "\u001b[0;32m~/opt/anaconda3/lib/python3.8/site-packages/matplotlib/axes/_axes.py\u001b[0m in \u001b[0;36mplot\u001b[0;34m(self, scalex, scaley, data, *args, **kwargs)\u001b[0m\n\u001b[1;32m   1741\u001b[0m         \"\"\"\n\u001b[1;32m   1742\u001b[0m         \u001b[0mkwargs\u001b[0m \u001b[0;34m=\u001b[0m \u001b[0mcbook\u001b[0m\u001b[0;34m.\u001b[0m\u001b[0mnormalize_kwargs\u001b[0m\u001b[0;34m(\u001b[0m\u001b[0mkwargs\u001b[0m\u001b[0;34m,\u001b[0m \u001b[0mmlines\u001b[0m\u001b[0;34m.\u001b[0m\u001b[0mLine2D\u001b[0m\u001b[0;34m)\u001b[0m\u001b[0;34m\u001b[0m\u001b[0;34m\u001b[0m\u001b[0m\n\u001b[0;32m-> 1743\u001b[0;31m         \u001b[0mlines\u001b[0m \u001b[0;34m=\u001b[0m \u001b[0;34m[\u001b[0m\u001b[0;34m*\u001b[0m\u001b[0mself\u001b[0m\u001b[0;34m.\u001b[0m\u001b[0m_get_lines\u001b[0m\u001b[0;34m(\u001b[0m\u001b[0;34m*\u001b[0m\u001b[0margs\u001b[0m\u001b[0;34m,\u001b[0m \u001b[0mdata\u001b[0m\u001b[0;34m=\u001b[0m\u001b[0mdata\u001b[0m\u001b[0;34m,\u001b[0m \u001b[0;34m**\u001b[0m\u001b[0mkwargs\u001b[0m\u001b[0;34m)\u001b[0m\u001b[0;34m]\u001b[0m\u001b[0;34m\u001b[0m\u001b[0;34m\u001b[0m\u001b[0m\n\u001b[0m\u001b[1;32m   1744\u001b[0m         \u001b[0;32mfor\u001b[0m \u001b[0mline\u001b[0m \u001b[0;32min\u001b[0m \u001b[0mlines\u001b[0m\u001b[0;34m:\u001b[0m\u001b[0;34m\u001b[0m\u001b[0;34m\u001b[0m\u001b[0m\n\u001b[1;32m   1745\u001b[0m             \u001b[0mself\u001b[0m\u001b[0;34m.\u001b[0m\u001b[0madd_line\u001b[0m\u001b[0;34m(\u001b[0m\u001b[0mline\u001b[0m\u001b[0;34m)\u001b[0m\u001b[0;34m\u001b[0m\u001b[0;34m\u001b[0m\u001b[0m\n",
      "\u001b[0;32m~/opt/anaconda3/lib/python3.8/site-packages/matplotlib/axes/_base.py\u001b[0m in \u001b[0;36m__call__\u001b[0;34m(self, data, *args, **kwargs)\u001b[0m\n\u001b[1;32m    271\u001b[0m                 \u001b[0mthis\u001b[0m \u001b[0;34m+=\u001b[0m \u001b[0margs\u001b[0m\u001b[0;34m[\u001b[0m\u001b[0;36m0\u001b[0m\u001b[0;34m]\u001b[0m\u001b[0;34m,\u001b[0m\u001b[0;34m\u001b[0m\u001b[0;34m\u001b[0m\u001b[0m\n\u001b[1;32m    272\u001b[0m                 \u001b[0margs\u001b[0m \u001b[0;34m=\u001b[0m \u001b[0margs\u001b[0m\u001b[0;34m[\u001b[0m\u001b[0;36m1\u001b[0m\u001b[0;34m:\u001b[0m\u001b[0;34m]\u001b[0m\u001b[0;34m\u001b[0m\u001b[0;34m\u001b[0m\u001b[0m\n\u001b[0;32m--> 273\u001b[0;31m             \u001b[0;32myield\u001b[0m \u001b[0;32mfrom\u001b[0m \u001b[0mself\u001b[0m\u001b[0;34m.\u001b[0m\u001b[0m_plot_args\u001b[0m\u001b[0;34m(\u001b[0m\u001b[0mthis\u001b[0m\u001b[0;34m,\u001b[0m \u001b[0mkwargs\u001b[0m\u001b[0;34m)\u001b[0m\u001b[0;34m\u001b[0m\u001b[0;34m\u001b[0m\u001b[0m\n\u001b[0m\u001b[1;32m    274\u001b[0m \u001b[0;34m\u001b[0m\u001b[0m\n\u001b[1;32m    275\u001b[0m     \u001b[0;32mdef\u001b[0m \u001b[0mget_next_color\u001b[0m\u001b[0;34m(\u001b[0m\u001b[0mself\u001b[0m\u001b[0;34m)\u001b[0m\u001b[0;34m:\u001b[0m\u001b[0;34m\u001b[0m\u001b[0;34m\u001b[0m\u001b[0m\n",
      "\u001b[0;32m~/opt/anaconda3/lib/python3.8/site-packages/matplotlib/axes/_base.py\u001b[0m in \u001b[0;36m_plot_args\u001b[0;34m(self, tup, kwargs)\u001b[0m\n\u001b[1;32m    397\u001b[0m \u001b[0;34m\u001b[0m\u001b[0m\n\u001b[1;32m    398\u001b[0m         \u001b[0;32mif\u001b[0m \u001b[0mx\u001b[0m\u001b[0;34m.\u001b[0m\u001b[0mshape\u001b[0m\u001b[0;34m[\u001b[0m\u001b[0;36m0\u001b[0m\u001b[0;34m]\u001b[0m \u001b[0;34m!=\u001b[0m \u001b[0my\u001b[0m\u001b[0;34m.\u001b[0m\u001b[0mshape\u001b[0m\u001b[0;34m[\u001b[0m\u001b[0;36m0\u001b[0m\u001b[0;34m]\u001b[0m\u001b[0;34m:\u001b[0m\u001b[0;34m\u001b[0m\u001b[0;34m\u001b[0m\u001b[0m\n\u001b[0;32m--> 399\u001b[0;31m             raise ValueError(f\"x and y must have same first dimension, but \"\n\u001b[0m\u001b[1;32m    400\u001b[0m                              f\"have shapes {x.shape} and {y.shape}\")\n\u001b[1;32m    401\u001b[0m         \u001b[0;32mif\u001b[0m \u001b[0mx\u001b[0m\u001b[0;34m.\u001b[0m\u001b[0mndim\u001b[0m \u001b[0;34m>\u001b[0m \u001b[0;36m2\u001b[0m \u001b[0;32mor\u001b[0m \u001b[0my\u001b[0m\u001b[0;34m.\u001b[0m\u001b[0mndim\u001b[0m \u001b[0;34m>\u001b[0m \u001b[0;36m2\u001b[0m\u001b[0;34m:\u001b[0m\u001b[0;34m\u001b[0m\u001b[0;34m\u001b[0m\u001b[0m\n",
      "\u001b[0;31mValueError\u001b[0m: x and y must have same first dimension, but have shapes (9,) and (230,)"
     ]
    },
    {
     "data": {
      "image/png": "[encoded data removed]",
      "text/plain": [
       "<Figure size 720x360 with 1 Axes>"
      ]
     },
     "metadata": {
      "needs_background": "light"
     },
     "output_type": "display_data"
    }
   ],
   "source": [
    "plt.figure(figsize=(10, 5))\n",
    "plt.plot(TSLA['Date'][TSLA['Date'] < '2021-08-31'], TSLA['Adj Close'][TSLA['Date'] < '2021-08-31'], label = 'Training')\n",
    "plt.plot(TSLA['Date'][TSLA['Date'] >= '2021-08-23'], TSLA['Adj Close'][TSLA['Date'] >= '2021-08-23'], label = 'Testing')\n",
    "plt.plot(TSLA['Date'][TSLA['Date'] >= '2021-08-31'], TSLA_prediction.reshape(-1), label = 'Predictions')\n",
    "plt.xlabel('Time')\n",
    "plt.ylabel('Closing Price')\n",
    "plt.legend(loc = 'best')"
   ]
  },
  {
   "cell_type": "code",
   "execution_count": null,
   "metadata": {
    "pycharm": {
     "name": "#%%\n"
    }
   },
   "outputs": [],
   "source": [
    "rmse = math.sqrt(mean_squared_error(TSLA_Test_Y.reshape(-1, 5), TSLA_prediction))\n",
    "mape = np.mean(np.abs(TSLA_prediction - TSLA_Test_Y.reshape(-1, 5))/np.abs(TSLA_Test_Y.reshape(-1, 5)))\n",
    "print(f'RMSE: {rmse}')\n",
    "print(f'MAPE: {mape}')"
   ]
  }
 ],
 "metadata": {
  "kernelspec": {
   "display_name": "Python 3 (ipykernel)",
   "language": "python",
   "name": "python3"
  },
  "language_info": {
   "codemirror_mode": {
    "name": "ipython",
    "version": 3
   },
   "file_extension": ".py",
   "mimetype": "text/x-python",
   "name": "python",
   "nbconvert_exporter": "python",
   "pygments_lexer": "ipython3",
   "version": "3.8.8"
  }
 },
 "nbformat": 4,
 "nbformat_minor": 1
}
