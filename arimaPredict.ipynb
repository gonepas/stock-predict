{
 "cells": [
  {
   "cell_type": "code",
   "execution_count": null,
   "metadata": {
    "pycharm": {
     "name": "#%%\n"
    }
   },
   "outputs": [],
   "source": []
  },
  {
   "cell_type": "markdown",
   "metadata": {},
   "source": [
    "<a href=\"https://colab.research.google.com/github/amanjain252002/Stock-Price-Prediction/blob/main/ARIMA_Model.ipynb\" target=\"_parent\"><img src=\"https://colab.research.google.com/assets/colab-badge.svg\" alt=\"Open In Colab\"/></a>"
   ]
  },
  {
   "cell_type": "code",
   "execution_count": 29,
   "metadata": {
    "pycharm": {
     "name": "#%%\n"
    }
   },
   "outputs": [
    {
     "name": "stdout",
     "output_type": "stream",
     "text": [
      "Requirement already satisfied: pmdarima in /Users/mac2020/.conda/envs/Stock-Price-Prediction/lib/python3.9/site-packages (1.8.2)\n",
      "Requirement already satisfied: numpy~=1.19.0 in /Users/mac2020/.conda/envs/Stock-Price-Prediction/lib/python3.9/site-packages (from pmdarima) (1.19.5)\n",
      "Requirement already satisfied: scikit-learn>=0.22 in /Users/mac2020/.conda/envs/Stock-Price-Prediction/lib/python3.9/site-packages (from pmdarima) (0.24.2)\n",
      "Requirement already satisfied: statsmodels!=0.12.0,>=0.11 in /Users/mac2020/.conda/envs/Stock-Price-Prediction/lib/python3.9/site-packages (from pmdarima) (0.12.2)\n",
      "Requirement already satisfied: joblib>=0.11 in /Users/mac2020/.conda/envs/Stock-Price-Prediction/lib/python3.9/site-packages (from pmdarima) (1.0.1)\n",
      "Requirement already satisfied: urllib3 in /Users/mac2020/.conda/envs/Stock-Price-Prediction/lib/python3.9/site-packages (from pmdarima) (1.26.6)\n",
      "Requirement already satisfied: Cython!=0.29.18,>=0.29 in /Users/mac2020/.conda/envs/Stock-Price-Prediction/lib/python3.9/site-packages (from pmdarima) (0.29.24)\n",
      "Requirement already satisfied: scipy>=1.3.2 in /Users/mac2020/.conda/envs/Stock-Price-Prediction/lib/python3.9/site-packages (from pmdarima) (1.7.1)\n",
      "Requirement already satisfied: setuptools!=50.0.0,>=38.6.0 in /Users/mac2020/.conda/envs/Stock-Price-Prediction/lib/python3.9/site-packages (from pmdarima) (58.0.4)\n",
      "Requirement already satisfied: pandas>=0.19 in /Users/mac2020/.conda/envs/Stock-Price-Prediction/lib/python3.9/site-packages (from pmdarima) (1.3.2)\n",
      "Requirement already satisfied: python-dateutil>=2.7.3 in /Users/mac2020/.conda/envs/Stock-Price-Prediction/lib/python3.9/site-packages (from pandas>=0.19->pmdarima) (2.8.2)\n",
      "Requirement already satisfied: pytz>=2017.3 in /Users/mac2020/.conda/envs/Stock-Price-Prediction/lib/python3.9/site-packages (from pandas>=0.19->pmdarima) (2021.1)\n",
      "Requirement already satisfied: six>=1.5 in /Users/mac2020/.conda/envs/Stock-Price-Prediction/lib/python3.9/site-packages (from python-dateutil>=2.7.3->pandas>=0.19->pmdarima) (1.16.0)\n",
      "Requirement already satisfied: threadpoolctl>=2.0.0 in /Users/mac2020/.conda/envs/Stock-Price-Prediction/lib/python3.9/site-packages (from scikit-learn>=0.22->pmdarima) (2.2.0)\n",
      "Requirement already satisfied: patsy>=0.5 in /Users/mac2020/.conda/envs/Stock-Price-Prediction/lib/python3.9/site-packages (from statsmodels!=0.12.0,>=0.11->pmdarima) (0.5.1)\n"
     ]
    }
   ],
   "source": [
    "!pip install pmdarima"
   ]
  },
  {
   "cell_type": "code",
   "execution_count": 30,
   "metadata": {
    "pycharm": {
     "name": "#%%\n"
    }
   },
   "outputs": [],
   "source": [
    "import math\n",
    "import numpy as np\n",
    "import pandas as pd\n",
    "import matplotlib.pyplot as plt\n",
    "\n",
    "from statsmodels.tsa.stattools import adfuller\n",
    "from statsmodels.tsa.arima_model import ARIMA\n",
    "\n",
    "from pmdarima.arima import auto_arima\n",
    "from sklearn.metrics import mean_squared_error, mean_absolute_error\n",
    "\n",
    "import warnings\n",
    "\n",
    "warnings.filterwarnings('ignore')"
   ]
  },
  {
   "cell_type": "code",
   "execution_count": 17,
   "metadata": {
    "pycharm": {
     "name": "#%%\n"
    }
   },
   "outputs": [],
   "source": [
    "TSLA = pd.read_csv('Data/FB.csv')"
   ]
  },
  {
   "cell_type": "markdown",
   "metadata": {},
   "source": [
    "The Dickey-Fuller test is one of the most popular statistical tests. It can be used to determine the presence of unit root in the series and help us understand if the series is stationary.\n",
    "\n",
    "**Null Hypothesis**: The series has a unit root\n",
    "\n",
    "**Alternate Hypothesis**: The series has no unit root.\n",
    "\n",
    "If we fail to reject the Null Hypothesis, then the series is non-stationary."
   ]
  },
  {
   "cell_type": "code",
   "execution_count": 18,
   "metadata": {
    "pycharm": {
     "name": "#%%\n"
    }
   },
   "outputs": [],
   "source": [
    "def Test_Stationarity(timeseries):\n",
    "    result = adfuller(timeseries['Adj Close'], autolag='AIC')\n",
    "    print(\"Results of Dickey Fuller Test\")\n",
    "    print(f'Test Statistics: {result[0]}')\n",
    "    print(f'p-value: {result[1]}')\n",
    "    print(f'Number of lags used: {result[2]}')\n",
    "    print(f'Number of observations used: {result[3]}')\n",
    "    for key, value in result[4].items():\n",
    "        print(f'critical value ({key}): {value}')"
   ]
  },
  {
   "cell_type": "markdown",
   "metadata": {},
   "source": [
    "#Tesla"
   ]
  },
  {
   "cell_type": "code",
   "execution_count": 19,
   "metadata": {
    "pycharm": {
     "name": "#%%\n"
    }
   },
   "outputs": [
    {
     "data": {
      "text/html": [
       "<div>\n",
       "<style scoped>\n",
       "    .dataframe tbody tr th:only-of-type {\n",
       "        vertical-align: middle;\n",
       "    }\n",
       "\n",
       "    .dataframe tbody tr th {\n",
       "        vertical-align: top;\n",
       "    }\n",
       "\n",
       "    .dataframe thead th {\n",
       "        text-align: right;\n",
       "    }\n",
       "</style>\n",
       "<table border=\"1\" class=\"dataframe\">\n",
       "  <thead>\n",
       "    <tr style=\"text-align: right;\">\n",
       "      <th></th>\n",
       "      <th>Date</th>\n",
       "      <th>Open</th>\n",
       "      <th>High</th>\n",
       "      <th>Low</th>\n",
       "      <th>Close</th>\n",
       "      <th>Adj Close</th>\n",
       "      <th>Volume</th>\n",
       "    </tr>\n",
       "  </thead>\n",
       "  <tbody>\n",
       "    <tr>\n",
       "      <th>0</th>\n",
       "      <td>2020-01-02</td>\n",
       "      <td>206.750000</td>\n",
       "      <td>209.789993</td>\n",
       "      <td>206.270004</td>\n",
       "      <td>209.779999</td>\n",
       "      <td>209.779999</td>\n",
       "      <td>12077100</td>\n",
       "    </tr>\n",
       "    <tr>\n",
       "      <th>1</th>\n",
       "      <td>2020-01-03</td>\n",
       "      <td>207.210007</td>\n",
       "      <td>210.399994</td>\n",
       "      <td>206.949997</td>\n",
       "      <td>208.669998</td>\n",
       "      <td>208.669998</td>\n",
       "      <td>11188400</td>\n",
       "    </tr>\n",
       "    <tr>\n",
       "      <th>2</th>\n",
       "      <td>2020-01-06</td>\n",
       "      <td>206.699997</td>\n",
       "      <td>212.779999</td>\n",
       "      <td>206.520004</td>\n",
       "      <td>212.600006</td>\n",
       "      <td>212.600006</td>\n",
       "      <td>17058900</td>\n",
       "    </tr>\n",
       "    <tr>\n",
       "      <th>3</th>\n",
       "      <td>2020-01-07</td>\n",
       "      <td>212.820007</td>\n",
       "      <td>214.580002</td>\n",
       "      <td>211.750000</td>\n",
       "      <td>213.059998</td>\n",
       "      <td>213.059998</td>\n",
       "      <td>14912400</td>\n",
       "    </tr>\n",
       "    <tr>\n",
       "      <th>4</th>\n",
       "      <td>2020-01-08</td>\n",
       "      <td>213.000000</td>\n",
       "      <td>216.240005</td>\n",
       "      <td>212.610001</td>\n",
       "      <td>215.220001</td>\n",
       "      <td>215.220001</td>\n",
       "      <td>13475000</td>\n",
       "    </tr>\n",
       "  </tbody>\n",
       "</table>\n",
       "</div>"
      ],
      "text/plain": [
       "         Date        Open        High         Low       Close   Adj Close  \\\n",
       "0  2020-01-02  206.750000  209.789993  206.270004  209.779999  209.779999   \n",
       "1  2020-01-03  207.210007  210.399994  206.949997  208.669998  208.669998   \n",
       "2  2020-01-06  206.699997  212.779999  206.520004  212.600006  212.600006   \n",
       "3  2020-01-07  212.820007  214.580002  211.750000  213.059998  213.059998   \n",
       "4  2020-01-08  213.000000  216.240005  212.610001  215.220001  215.220001   \n",
       "\n",
       "     Volume  \n",
       "0  12077100  \n",
       "1  11188400  \n",
       "2  17058900  \n",
       "3  14912400  \n",
       "4  13475000  "
      ]
     },
     "execution_count": 19,
     "metadata": {},
     "output_type": "execute_result"
    }
   ],
   "source": [
    "TSLA.head()"
   ]
  },
  {
   "cell_type": "code",
   "execution_count": 20,
   "metadata": {
    "pycharm": {
     "name": "#%%\n"
    }
   },
   "outputs": [
    {
     "name": "stdout",
     "output_type": "stream",
     "text": [
      "<class 'pandas.core.frame.DataFrame'>\n",
      "RangeIndex: 428 entries, 0 to 427\n",
      "Data columns (total 7 columns):\n",
      " #   Column     Non-Null Count  Dtype  \n",
      "---  ------     --------------  -----  \n",
      " 0   Date       428 non-null    object \n",
      " 1   Open       428 non-null    float64\n",
      " 2   High       428 non-null    float64\n",
      " 3   Low        428 non-null    float64\n",
      " 4   Close      428 non-null    float64\n",
      " 5   Adj Close  428 non-null    float64\n",
      " 6   Volume     428 non-null    int64  \n",
      "dtypes: float64(5), int64(1), object(1)\n",
      "memory usage: 23.5+ KB\n"
     ]
    }
   ],
   "source": [
    "TSLA.info()"
   ]
  },
  {
   "cell_type": "code",
   "execution_count": 21,
   "metadata": {
    "pycharm": {
     "name": "#%%\n"
    }
   },
   "outputs": [],
   "source": [
    "# Change Dtype of Date column\n",
    "TSLA[\"Date\"] = pd.to_datetime(TSLA[\"Date\"])"
   ]
  },
  {
   "cell_type": "code",
   "execution_count": 22,
   "metadata": {
    "pycharm": {
     "name": "#%%\n"
    }
   },
   "outputs": [
    {
     "name": "stdout",
     "output_type": "stream",
     "text": [
      "Results of Dickey Fuller Test\n",
      "Test Statistics: -0.16826353665400937\n",
      "p-value: 0.9422003031109558\n",
      "Number of lags used: 3\n",
      "Number of observations used: 424\n",
      "critical value (1%): -3.445867291195605\n",
      "critical value (5%): -2.868380822100627\n",
      "critical value (10%): -2.5704139268867925\n"
     ]
    }
   ],
   "source": [
    "Test_Stationarity(TSLA)"
   ]
  },
  {
   "cell_type": "markdown",
   "metadata": {},
   "source": [
    "The p-value > 0.05, so we cannot reject the Null hypothesis. Hence, we would need to use the “Integrated (I)” concept, denoted by value ‘d’ in time series, to make the data stationary while building the Auto ARIMA model."
   ]
  },
  {
   "cell_type": "markdown",
   "metadata": {},
   "source": [
    "Now let's take log of the 'Adj Close' column to reduce the magnitude of the values and reduce the series rising trend."
   ]
  },
  {
   "cell_type": "code",
   "execution_count": 23,
   "metadata": {
    "pycharm": {
     "name": "#%%\n"
    }
   },
   "outputs": [
    {
     "data": {
      "text/plain": [
       "Text(0.5, 1.0, 'Rolling Mean and Standard Deviation')"
      ]
     },
     "execution_count": 23,
     "metadata": {},
     "output_type": "execute_result"
    },
    {
     "data": {
      "image/png": "[encoded data removed]",
      "text/plain": [
       "<Figure size 720x360 with 1 Axes>"
      ]
     },
     "metadata": {
      "needs_background": "light"
     },
     "output_type": "display_data"
    }
   ],
   "source": [
    "TSLA['log Adj Close'] = np.log(TSLA['Adj Close'])\n",
    "TSLA_log_moving_avg = TSLA['log Adj Close'].rolling(12).mean()\n",
    "TSLA_log_std = TSLA['log Adj Close'].rolling(12).std()\n",
    "\n",
    "plt.figure(figsize=(10, 5))\n",
    "plt.plot(TSLA['Date'], TSLA_log_moving_avg, label=\"Rolling Mean\")\n",
    "plt.plot(TSLA['Date'], TSLA_log_std, label=\"Rolling Std\")\n",
    "plt.xlabel('Time')\n",
    "plt.ylabel('log Adj Close')\n",
    "plt.legend(loc='best')\n",
    "plt.title(\"Rolling Mean and Standard Deviation\")"
   ]
  },
  {
   "cell_type": "markdown",
   "metadata": {},
   "source": [
    "###Split the data into training and test set\n",
    "    Training Period: 2015-01-02 - 2020-09-30\n",
    "\n",
    "    Testing Period:  2020-10-01 - 2021-02-26"
   ]
  },
  {
   "cell_type": "code",
   "execution_count": 24,
   "metadata": {
    "pycharm": {
     "name": "#%%\n"
    }
   },
   "outputs": [
    {
     "data": {
      "text/plain": [
       "<matplotlib.legend.Legend at 0x7fe358089790>"
      ]
     },
     "execution_count": 24,
     "metadata": {},
     "output_type": "execute_result"
    },
    {
     "data": {
      "image/png": "[encoded data removed]",
      "text/plain": [
       "<Figure size 720x360 with 1 Axes>"
      ]
     },
     "metadata": {
      "needs_background": "light"
     },
     "output_type": "display_data"
    }
   ],
   "source": [
    "TSLA_Train_Data = TSLA[TSLA['Date'] < '2021-08-13']\n",
    "TSLA_Test_Data = TSLA[TSLA['Date'] >= '2021-08-13'].reset_index(drop=True)\n",
    "\n",
    "plt.figure(figsize=(10, 5))\n",
    "plt.plot(TSLA_Train_Data['Date'], TSLA_Train_Data['log Adj Close'], label='Train Data')\n",
    "plt.plot(TSLA_Test_Data['Date'], TSLA_Test_Data['log Adj Close'], label='Test Data')\n",
    "plt.xlabel('Time')\n",
    "plt.ylabel('log Adj Close')\n",
    "plt.legend(loc='best')"
   ]
  },
  {
   "cell_type": "markdown",
   "metadata": {},
   "source": [
    "###Modeling"
   ]
  },
  {
   "cell_type": "code",
   "execution_count": 25,
   "metadata": {
    "pycharm": {
     "name": "#%%\n"
    }
   },
   "outputs": [
    {
     "name": "stdout",
     "output_type": "stream",
     "text": [
      "                               SARIMAX Results                                \n",
      "==============================================================================\n",
      "Dep. Variable:                      y   No. Observations:                  407\n",
      "Model:               SARIMAX(1, 1, 0)   Log Likelihood                 917.304\n",
      "Date:                Mon, 20 Sep 2021   AIC                          -1830.607\n",
      "Time:                        17:23:10   BIC                          -1822.595\n",
      "Sample:                             0   HQIC                         -1827.436\n",
      "                                - 407                                         \n",
      "Covariance Type:                  opg                                         \n",
      "==============================================================================\n",
      "                 coef    std err          z      P>|z|      [0.025      0.975]\n",
      "------------------------------------------------------------------------------\n",
      "ar.L1         -0.1566      0.033     -4.714      0.000      -0.222      -0.092\n",
      "sigma2         0.0006   2.86e-05     22.348      0.000       0.001       0.001\n",
      "===================================================================================\n",
      "Ljung-Box (L1) (Q):                   0.01   Jarque-Bera (JB):               248.81\n",
      "Prob(Q):                              0.94   Prob(JB):                         0.00\n",
      "Heteroskedasticity (H):               0.32   Skew:                            -0.32\n",
      "Prob(H) (two-sided):                  0.00   Kurtosis:                         6.78\n",
      "===================================================================================\n",
      "\n",
      "Warnings:\n",
      "[1] Covariance matrix calculated using the outer product of gradients (complex-step).\n"
     ]
    }
   ],
   "source": [
    "TSLA_Auto_ARIMA_Model = auto_arima(TSLA_Train_Data['log Adj Close'], seasonal=False,\n",
    "                                   error_action='ignore', suppress_warnings=True)\n",
    "print(TSLA_Auto_ARIMA_Model.summary())"
   ]
  },
  {
   "cell_type": "code",
   "execution_count": 26,
   "metadata": {
    "pycharm": {
     "name": "#%%\n"
    }
   },
   "outputs": [
    {
     "name": "stderr",
     "output_type": "stream",
     "text": [
      " This problem is unconstrained.\n"
     ]
    },
    {
     "name": "stdout",
     "output_type": "stream",
     "text": [
      "RUNNING THE L-BFGS-B CODE\n",
      "\n",
      "           * * *\n",
      "\n",
      "Machine precision = 2.220D-16\n",
      " N =            8     M =           12\n",
      "\n",
      "At X0         0 variables are exactly at the bounds\n",
      "\n",
      "At iterate    0    f= -2.26147D+00    |proj g|=  2.54202D+02\n"
     ]
    },
    {
     "name": "stderr",
     "output_type": "stream",
     "text": [
      "\n",
      " Bad direction in the line search;\n",
      "   refresh the lbfgs memory and restart the iteration.\n",
      "\n",
      " Line search cannot locate an adequate point after MAXLS\n",
      "  function and gradient evaluations.\n",
      "  Previous x, f and g restored.\n",
      " Possible causes: 1 error in function or gradient evaluation;\n",
      "                  2 rounding error dominate computation.\n"
     ]
    },
    {
     "name": "stdout",
     "output_type": "stream",
     "text": [
      "\n",
      "           * * *\n",
      "\n",
      "Tit   = total number of iterations\n",
      "Tnf   = total number of function evaluations\n",
      "Tnint = total number of segments explored during Cauchy searches\n",
      "Skip  = number of BFGS updates skipped\n",
      "Nact  = number of active bounds at final generalized Cauchy point\n",
      "Projg = norm of the final projected gradient\n",
      "F     = final function value\n",
      "\n",
      "           * * *\n",
      "\n",
      "   N    Tit     Tnf  Tnint  Skip  Nact     Projg        F\n",
      "    8      3     49      2     0     0   5.475D-02  -2.263D+00\n",
      "  F =  -2.2633779227372322     \n",
      "\n",
      "ABNORMAL_TERMINATION_IN_LNSRCH                              \n",
      "                             ARIMA Model Results                              \n",
      "==============================================================================\n",
      "Dep. Variable:       D2.log Adj Close   No. Observations:                  405\n",
      "Model:                 ARIMA(5, 2, 2)   Log Likelihood                 916.668\n",
      "Method:                       css-mle   S.D. of innovations              0.025\n",
      "Date:                Mon, 20 Sep 2021   AIC                          -1815.336\n",
      "Time:                        17:23:11   BIC                          -1779.301\n",
      "Sample:                             2   HQIC                         -1801.073\n",
      "                                                                              \n",
      "==========================================================================================\n",
      "                             coef    std err          z      P>|z|      [0.025      0.975]\n",
      "------------------------------------------------------------------------------------------\n",
      "const                   5.324e-06   1.21e-05      0.440      0.660   -1.84e-05     2.9e-05\n",
      "ar.L1.D2.log Adj Close    -0.8052      0.123     -6.549      0.000      -1.046      -0.564\n",
      "ar.L2.D2.log Adj Close    -0.0316      0.066     -0.478      0.633      -0.161       0.098\n",
      "ar.L3.D2.log Adj Close    -0.0151      0.065     -0.232      0.817      -0.142       0.112\n",
      "ar.L4.D2.log Adj Close     0.0101      0.065      0.156      0.876      -0.117       0.137\n",
      "ar.L5.D2.log Adj Close     0.1128      0.050      2.269      0.023       0.015       0.210\n",
      "ma.L1.D2.log Adj Close    -0.3065      0.118     -2.602      0.009      -0.537      -0.076\n",
      "ma.L2.D2.log Adj Close    -0.6856      0.116     -5.911      0.000      -0.913      -0.458\n",
      "                                    Roots                                    \n",
      "=============================================================================\n",
      "                  Real          Imaginary           Modulus         Frequency\n",
      "-----------------------------------------------------------------------------\n",
      "AR.1           -1.1934           -0.4295j            1.2683           -0.4450\n",
      "AR.2           -1.1934           +0.4295j            1.2683            0.4450\n",
      "AR.3            0.2125           -1.7027j            1.7159           -0.2302\n",
      "AR.4            0.2125           +1.7027j            1.7159            0.2302\n",
      "AR.5            1.8720           -0.0000j            1.8720           -0.0000\n",
      "MA.1            1.0047           +0.0000j            1.0047            0.0000\n",
      "MA.2           -1.4518           +0.0000j            1.4518            0.5000\n",
      "-----------------------------------------------------------------------------\n"
     ]
    }
   ],
   "source": [
    "TSLA_ARIMA_Model = ARIMA(TSLA_Train_Data['log Adj Close'], order=(5, 2, 2))\n",
    "TSLA_ARIMA_Model_Fit = TSLA_ARIMA_Model.fit()\n",
    "print(TSLA_ARIMA_Model_Fit.summary())"
   ]
  },
  {
   "cell_type": "markdown",
   "metadata": {},
   "source": [
    "###Predicting the closing stock price of Tesla"
   ]
  },
  {
   "cell_type": "code",
   "execution_count": 27,
   "metadata": {
    "pycharm": {
     "name": "#%%\n"
    }
   },
   "outputs": [
    {
     "data": {
      "text/plain": [
       "<matplotlib.legend.Legend at 0x7fe359180400>"
      ]
     },
     "execution_count": 27,
     "metadata": {},
     "output_type": "execute_result"
    },
    {
     "data": {
      "image/png": "[encoded data removed]",
      "text/plain": [
       "<Figure size 720x360 with 1 Axes>"
      ]
     },
     "metadata": {
      "needs_background": "light"
     },
     "output_type": "display_data"
    }
   ],
   "source": [
    "TSLA_output = TSLA_ARIMA_Model_Fit.forecast(21, alpha=0.05)\n",
    "TSLA_predictions = np.exp(TSLA_output[0])\n",
    "plt.figure(figsize=(10, 5))\n",
    "plt.plot(TSLA_Train_Data['Date'], TSLA_Train_Data['Adj Close'], label='Training')\n",
    "plt.plot(TSLA_Test_Data['Date'], TSLA_Test_Data['Adj Close'], label='Testing')\n",
    "plt.plot(TSLA_Test_Data['Date'], TSLA_predictions, label='Predictions')\n",
    "plt.xlabel('Time')\n",
    "plt.ylabel('Closing Price')\n",
    "plt.legend()"
   ]
  },
  {
   "cell_type": "code",
   "execution_count": 28,
   "metadata": {
    "pycharm": {
     "name": "#%%\n"
    }
   },
   "outputs": [
    {
     "name": "stdout",
     "output_type": "stream",
     "text": [
      "RMSE: 5.432821472201959\n",
      "MAPE: 0.011621525868602675\n"
     ]
    }
   ],
   "source": [
    "rmse = math.sqrt(mean_squared_error(TSLA_Test_Data['Adj Close'], TSLA_predictions))\n",
    "mape = np.mean(np.abs(TSLA_predictions - TSLA_Test_Data['Adj Close']) / np.abs(TSLA_Test_Data['Adj Close']))\n",
    "\n",
    "print(f'RMSE: {rmse}')\n",
    "print(f'MAPE: {mape}')\n"
   ]
  }
 ],
 "metadata": {
  "kernelspec": {
   "display_name": "PyCharm (Stock-Price-Prediction)",
   "language": "python",
   "name": "pycharm-eb91a291"
  },
  "language_info": {
   "codemirror_mode": {
    "name": "ipython",
    "version": 3
   },
   "file_extension": ".py",
   "mimetype": "text/x-python",
   "name": "python",
   "nbconvert_exporter": "python",
   "pygments_lexer": "ipython3",
   "version": "3.7.11"
  }
 },
 "nbformat": 4,
 "nbformat_minor": 1
}